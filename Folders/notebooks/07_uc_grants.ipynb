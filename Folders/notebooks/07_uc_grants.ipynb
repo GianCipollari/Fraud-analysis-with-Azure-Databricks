{
 "cells": [
  {
   "cell_type": "code",
   "execution_count": 0,
   "metadata": {
    "application/vnd.databricks.v1+cell": {
     "cellMetadata": {
      "byteLimit": 2048000,
      "rowLimit": 10000
     },
     "inputWidgets": {},
     "nuid": "83d71842-8de2-4a66-98cf-47917892979c",
     "showTitle": false,
     "tableResultSettingsMap": {},
     "title": ""
    }
   },
   "outputs": [],
   "source": [
    "-- Orquestation & UC Grants \n",
    "\n",
    "USE CATALOG finance_catalog;\n",
    "\n",
    "-- Assure catalog and schema USAGE\n",
    "GRANT USAGE ON CATALOG finance_catalog TO fraud_analyst;\n",
    "GRANT USAGE ON SCHEMA finance_catalog.gold TO fraud_analyst;\n",
    "\n",
    "-- Permission to read only the table with the alerts\n",
    "GRANT SELECT ON TABLE finance_catalog.gold.transactions_alerts TO fraud_analyst;\n",
    "\n",
    "-- Permission to read only the table with the alerts\n",
    "GRANT SELECT ON TABLE finance_catalog.gold.transactions_enriched TO fraud_analyst;\n",
    "\n",
    "-- Ensure the auditor does NOT have direct access (we will provide this via Delta Sharing on Day 9)\n",
    "REVOKE ALL PRIVILEGES ON TABLE finance_catalog.gold.transactions_alerts FROM auditor;\n",
    "REVOKE ALL PRIVILEGES ON TABLE finance_catalog.gold.transactions_enriched FROM auditor;\n"
   ]
  }
 ],
 "metadata": {
  "application/vnd.databricks.v1+notebook": {
   "computePreferences": {
    "hardware": {
     "accelerator": null,
     "gpuPoolId": null,
     "memory": null
    }
   },
   "dashboards": [],
   "environmentMetadata": {
    "base_environment": "",
    "environment_version": "3"
   },
   "inputWidgetPreferences": null,
   "language": "sql",
   "notebookMetadata": {
    "pythonIndentUnit": 4
   },
   "notebookName": "07_uc_grants",
   "widgets": {}
  },
  "language_info": {
   "name": "sql"
  }
 },
 "nbformat": 4,
 "nbformat_minor": 0
}