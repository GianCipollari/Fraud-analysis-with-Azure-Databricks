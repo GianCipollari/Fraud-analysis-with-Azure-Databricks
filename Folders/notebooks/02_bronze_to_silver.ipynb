{
 "cells": [
  {
   "cell_type": "code",
   "execution_count": 0,
   "metadata": {
    "application/vnd.databricks.v1+cell": {
     "cellMetadata": {
      "byteLimit": 2048000,
      "rowLimit": 10000
     },
     "inputWidgets": {},
     "nuid": "f9342a96-b75d-41e6-ab89-475f959256c4",
     "showTitle": false,
     "tableResultSettingsMap": {},
     "title": ""
    }
   },
   "outputs": [
    {
     "output_type": "display_data",
     "data": {
      "text/html": [
       "<style scoped>\n",
       "  .table-result-container {\n",
       "    max-height: 300px;\n",
       "    overflow: auto;\n",
       "  }\n",
       "  table, th, td {\n",
       "    border: 1px solid black;\n",
       "    border-collapse: collapse;\n",
       "  }\n",
       "  th, td {\n",
       "    padding: 5px;\n",
       "  }\n",
       "  th {\n",
       "    text-align: left;\n",
       "  }\n",
       "</style><div class='table-result-container'><table class='table-result'><thead style='background-color: white'><tr><th>transaction_id</th><th>customer_id</th><th>timestamp</th><th>origin_country</th><th>destination_country</th><th>amount</th><th>currency</th><th>merchant</th></tr></thead><tbody><tr><td>TXN000001</td><td>CUST2132</td><td>2025-06-23 15:44:56</td><td>SG</td><td>NL</td><td>17415.01</td><td>USD</td><td>Hernandez, Spears and Barnes</td></tr><tr><td>TXN000002</td><td>CUST7351</td><td>2025-07-10 07:47:38</td><td>PE</td><td>UY</td><td>18087.38</td><td>USD</td><td>Harris Group</td></tr><tr><td>TXN000003</td><td>CUST5966</td><td>2025-03-26 22:23:20</td><td>KH</td><td>US</td><td>10468.63</td><td>USD</td><td>Yoder-Lewis</td></tr><tr><td>TXN000004</td><td>CUST1574</td><td>2025-05-29 05:08:34</td><td>BR</td><td>GR</td><td>533.68</td><td>USD</td><td>Anderson, Schmitt and Bates</td></tr><tr><td>TXN000005</td><td>CUST6664</td><td>2025-05-10 15:32:16</td><td>LA</td><td>AO</td><td>3941.5</td><td>USD</td><td>Elliott, Dawson and Evans</td></tr></tbody></table></div>"
      ]
     },
     "metadata": {
      "application/vnd.databricks.v1+output": {
       "addedWidgets": {},
       "aggData": [],
       "aggError": "",
       "aggOverflow": false,
       "aggSchema": [],
       "aggSeriesLimitReached": false,
       "aggType": "",
       "arguments": {},
       "columnCustomDisplayInfos": {},
       "data": [
        [
         "TXN000001",
         "CUST2132",
         "2025-06-23 15:44:56",
         "SG",
         "NL",
         "17415.01",
         "USD",
         "Hernandez, Spears and Barnes"
        ],
        [
         "TXN000002",
         "CUST7351",
         "2025-07-10 07:47:38",
         "PE",
         "UY",
         "18087.38",
         "USD",
         "Harris Group"
        ],
        [
         "TXN000003",
         "CUST5966",
         "2025-03-26 22:23:20",
         "KH",
         "US",
         "10468.63",
         "USD",
         "Yoder-Lewis"
        ],
        [
         "TXN000004",
         "CUST1574",
         "2025-05-29 05:08:34",
         "BR",
         "GR",
         "533.68",
         "USD",
         "Anderson, Schmitt and Bates"
        ],
        [
         "TXN000005",
         "CUST6664",
         "2025-05-10 15:32:16",
         "LA",
         "AO",
         "3941.5",
         "USD",
         "Elliott, Dawson and Evans"
        ]
       ],
       "datasetInfos": [],
       "dbfsResultPath": null,
       "isJsonSchema": true,
       "metadata": {},
       "overflow": false,
       "plotOptions": {
        "customPlotOptions": {},
        "displayType": "table",
        "pivotAggregation": null,
        "pivotColumns": null,
        "xColumns": null,
        "yColumns": null
       },
       "removedWidgets": [],
       "schema": [
        {
         "metadata": "{}",
         "name": "transaction_id",
         "type": "\"string\""
        },
        {
         "metadata": "{}",
         "name": "customer_id",
         "type": "\"string\""
        },
        {
         "metadata": "{}",
         "name": "timestamp",
         "type": "\"string\""
        },
        {
         "metadata": "{}",
         "name": "origin_country",
         "type": "\"string\""
        },
        {
         "metadata": "{}",
         "name": "destination_country",
         "type": "\"string\""
        },
        {
         "metadata": "{}",
         "name": "amount",
         "type": "\"string\""
        },
        {
         "metadata": "{}",
         "name": "currency",
         "type": "\"string\""
        },
        {
         "metadata": "{}",
         "name": "merchant",
         "type": "\"string\""
        }
       ],
       "type": "table"
      }
     },
     "output_type": "display_data"
    },
    {
     "output_type": "display_data",
     "data": {
      "text/html": [
       "<style scoped>\n",
       "  .table-result-container {\n",
       "    max-height: 300px;\n",
       "    overflow: auto;\n",
       "  }\n",
       "  table, th, td {\n",
       "    border: 1px solid black;\n",
       "    border-collapse: collapse;\n",
       "  }\n",
       "  th, td {\n",
       "    padding: 5px;\n",
       "  }\n",
       "  th {\n",
       "    text-align: left;\n",
       "  }\n",
       "</style><div class='table-result-container'><table class='table-result'><thead style='background-color: white'><tr><th>customer_id</th><th>name</th><th>birth_date</th><th>country</th><th>risk_segment</th></tr></thead><tbody><tr><td>CUST1019</td><td>Travis Anderson</td><td>1984-12-27</td><td>HU</td><td>medium</td></tr><tr><td>CUST1020</td><td>Tyler Davis</td><td>1945-05-10</td><td>NR</td><td>high</td></tr><tr><td>CUST1062</td><td>Lisa Smith</td><td>1984-01-29</td><td>NE</td><td>high</td></tr><tr><td>CUST1063</td><td>Thomas Brown</td><td>1997-08-30</td><td>TG</td><td>low</td></tr><tr><td>CUST1072</td><td>James Marsh</td><td>1956-10-02</td><td>EG</td><td>low</td></tr></tbody></table></div>"
      ]
     },
     "metadata": {
      "application/vnd.databricks.v1+output": {
       "addedWidgets": {},
       "aggData": [],
       "aggError": "",
       "aggOverflow": false,
       "aggSchema": [],
       "aggSeriesLimitReached": false,
       "aggType": "",
       "arguments": {},
       "columnCustomDisplayInfos": {},
       "data": [
        [
         "CUST1019",
         "Travis Anderson",
         "1984-12-27",
         "HU",
         "medium"
        ],
        [
         "CUST1020",
         "Tyler Davis",
         "1945-05-10",
         "NR",
         "high"
        ],
        [
         "CUST1062",
         "Lisa Smith",
         "1984-01-29",
         "NE",
         "high"
        ],
        [
         "CUST1063",
         "Thomas Brown",
         "1997-08-30",
         "TG",
         "low"
        ],
        [
         "CUST1072",
         "James Marsh",
         "1956-10-02",
         "EG",
         "low"
        ]
       ],
       "datasetInfos": [],
       "dbfsResultPath": null,
       "isJsonSchema": true,
       "metadata": {},
       "overflow": false,
       "plotOptions": {
        "customPlotOptions": {},
        "displayType": "table",
        "pivotAggregation": null,
        "pivotColumns": null,
        "xColumns": null,
        "yColumns": null
       },
       "removedWidgets": [],
       "schema": [
        {
         "metadata": "{}",
         "name": "customer_id",
         "type": "\"string\""
        },
        {
         "metadata": "{}",
         "name": "name",
         "type": "\"string\""
        },
        {
         "metadata": "{}",
         "name": "birth_date",
         "type": "\"string\""
        },
        {
         "metadata": "{}",
         "name": "country",
         "type": "\"string\""
        },
        {
         "metadata": "{}",
         "name": "risk_segment",
         "type": "\"string\""
        }
       ],
       "type": "table"
      }
     },
     "output_type": "display_data"
    }
   ],
   "source": [
    "# Necessary catalog and schema \n",
    "spark.sql(\"USE CATALOG finance_catalog\")\n",
    "spark.sql(\"USE finance_catalog.bronze\")\n",
    "\n",
    "# Upload bronze tables\n",
    "df_tx_bronze = spark.table(\"transactions\")\n",
    "df_cust_bronze = spark.table(\"customers\")\n",
    "\n",
    "display(df_tx_bronze.limit(5))\n",
    "display(df_cust_bronze.limit(5))\n"
   ]
  },
  {
   "cell_type": "code",
   "execution_count": 0,
   "metadata": {
    "application/vnd.databricks.v1+cell": {
     "cellMetadata": {
      "byteLimit": 2048000,
      "rowLimit": 10000
     },
     "inputWidgets": {},
     "nuid": "6e930c6c-84e4-4cd5-a9cb-6f8e861abb96",
     "showTitle": false,
     "tableResultSettingsMap": {},
     "title": ""
    }
   },
   "outputs": [
    {
     "output_type": "display_data",
     "data": {
      "text/html": [
       "<style scoped>\n",
       "  .table-result-container {\n",
       "    max-height: 300px;\n",
       "    overflow: auto;\n",
       "  }\n",
       "  table, th, td {\n",
       "    border: 1px solid black;\n",
       "    border-collapse: collapse;\n",
       "  }\n",
       "  th, td {\n",
       "    padding: 5px;\n",
       "  }\n",
       "  th {\n",
       "    text-align: left;\n",
       "  }\n",
       "</style><div class='table-result-container'><table class='table-result'><thead style='background-color: white'><tr><th>transaction_id</th><th>customer_id</th><th>timestamp</th><th>origin_country</th><th>destination_country</th><th>amount</th><th>currency</th><th>merchant</th></tr></thead><tbody><tr><td>TXN000001</td><td>CUST2132</td><td>2025-06-23T15:44:56.000Z</td><td>SG</td><td>NL</td><td>17415.01</td><td>USD</td><td>Hernandez, Spears and Barnes</td></tr><tr><td>TXN000002</td><td>CUST7351</td><td>2025-07-10T07:47:38.000Z</td><td>PE</td><td>UY</td><td>18087.38</td><td>USD</td><td>Harris Group</td></tr><tr><td>TXN000003</td><td>CUST5966</td><td>2025-03-26T22:23:20.000Z</td><td>KH</td><td>US</td><td>10468.63</td><td>USD</td><td>Yoder-Lewis</td></tr><tr><td>TXN000004</td><td>CUST1574</td><td>2025-05-29T05:08:34.000Z</td><td>BR</td><td>GR</td><td>533.68</td><td>USD</td><td>Anderson, Schmitt and Bates</td></tr><tr><td>TXN000005</td><td>CUST6664</td><td>2025-05-10T15:32:16.000Z</td><td>LA</td><td>AO</td><td>3941.5</td><td>USD</td><td>Elliott, Dawson and Evans</td></tr></tbody></table></div>"
      ]
     },
     "metadata": {
      "application/vnd.databricks.v1+output": {
       "addedWidgets": {},
       "aggData": [],
       "aggError": "",
       "aggOverflow": false,
       "aggSchema": [],
       "aggSeriesLimitReached": false,
       "aggType": "",
       "arguments": {},
       "columnCustomDisplayInfos": {},
       "data": [
        [
         "TXN000001",
         "CUST2132",
         "2025-06-23T15:44:56.000Z",
         "SG",
         "NL",
         17415.01,
         "USD",
         "Hernandez, Spears and Barnes"
        ],
        [
         "TXN000002",
         "CUST7351",
         "2025-07-10T07:47:38.000Z",
         "PE",
         "UY",
         18087.38,
         "USD",
         "Harris Group"
        ],
        [
         "TXN000003",
         "CUST5966",
         "2025-03-26T22:23:20.000Z",
         "KH",
         "US",
         10468.63,
         "USD",
         "Yoder-Lewis"
        ],
        [
         "TXN000004",
         "CUST1574",
         "2025-05-29T05:08:34.000Z",
         "BR",
         "GR",
         533.68,
         "USD",
         "Anderson, Schmitt and Bates"
        ],
        [
         "TXN000005",
         "CUST6664",
         "2025-05-10T15:32:16.000Z",
         "LA",
         "AO",
         3941.5,
         "USD",
         "Elliott, Dawson and Evans"
        ]
       ],
       "datasetInfos": [],
       "dbfsResultPath": null,
       "isJsonSchema": true,
       "metadata": {},
       "overflow": false,
       "plotOptions": {
        "customPlotOptions": {},
        "displayType": "table",
        "pivotAggregation": null,
        "pivotColumns": null,
        "xColumns": null,
        "yColumns": null
       },
       "removedWidgets": [],
       "schema": [
        {
         "metadata": "{}",
         "name": "transaction_id",
         "type": "\"string\""
        },
        {
         "metadata": "{}",
         "name": "customer_id",
         "type": "\"string\""
        },
        {
         "metadata": "{}",
         "name": "timestamp",
         "type": "\"timestamp\""
        },
        {
         "metadata": "{}",
         "name": "origin_country",
         "type": "\"string\""
        },
        {
         "metadata": "{}",
         "name": "destination_country",
         "type": "\"string\""
        },
        {
         "metadata": "{}",
         "name": "amount",
         "type": "\"double\""
        },
        {
         "metadata": "{}",
         "name": "currency",
         "type": "\"string\""
        },
        {
         "metadata": "{}",
         "name": "merchant",
         "type": "\"string\""
        }
       ],
       "type": "table"
      }
     },
     "output_type": "display_data"
    }
   ],
   "source": [
    "from pyspark.sql.functions import col, to_timestamp, trim, upper\n",
    "\n",
    "df_tx_silver = (\n",
    "    df_tx_bronze\n",
    "      # tipos correctos\n",
    "      .withColumn(\"timestamp\", to_timestamp(col(\"timestamp\"), \"yyyy-MM-dd HH:mm:ss\"))\n",
    "      .withColumn(\"amount\",    col(\"amount\").cast(\"double\"))\n",
    "      # normalización suave\n",
    "      .withColumn(\"origin_country\",      upper(trim(col(\"origin_country\"))))\n",
    "      .withColumn(\"destination_country\", upper(trim(col(\"destination_country\"))))\n",
    "      .withColumn(\"currency\",            upper(trim(col(\"currency\"))))\n",
    "      .withColumn(\"merchant\",            trim(col(\"merchant\")))\n",
    "      # calidad mínima\n",
    "      .dropna(subset=[\"transaction_id\", \"customer_id\", \"timestamp\", \"amount\"])\n",
    ")\n",
    "\n",
    "display(df_tx_silver.limit(5))\n"
   ]
  },
  {
   "cell_type": "code",
   "execution_count": 0,
   "metadata": {
    "application/vnd.databricks.v1+cell": {
     "cellMetadata": {
      "byteLimit": 2048000,
      "rowLimit": 10000
     },
     "inputWidgets": {},
     "nuid": "59852218-5c08-43e8-8019-ebeb46050fdc",
     "showTitle": false,
     "tableResultSettingsMap": {},
     "title": ""
    }
   },
   "outputs": [
    {
     "output_type": "display_data",
     "data": {
      "text/html": [
       "<style scoped>\n",
       "  .table-result-container {\n",
       "    max-height: 300px;\n",
       "    overflow: auto;\n",
       "  }\n",
       "  table, th, td {\n",
       "    border: 1px solid black;\n",
       "    border-collapse: collapse;\n",
       "  }\n",
       "  th, td {\n",
       "    padding: 5px;\n",
       "  }\n",
       "  th {\n",
       "    text-align: left;\n",
       "  }\n",
       "</style><div class='table-result-container'><table class='table-result'><thead style='background-color: white'><tr><th>customer_id</th><th>name</th><th>birth_date</th><th>country</th><th>risk_segment</th></tr></thead><tbody><tr><td>CUST1019</td><td>Travis Anderson</td><td>1984-12-27</td><td>HU</td><td>medium</td></tr><tr><td>CUST1020</td><td>Tyler Davis</td><td>1945-05-10</td><td>NR</td><td>high</td></tr><tr><td>CUST1062</td><td>Lisa Smith</td><td>1984-01-29</td><td>NE</td><td>high</td></tr><tr><td>CUST1063</td><td>Thomas Brown</td><td>1997-08-30</td><td>TG</td><td>low</td></tr><tr><td>CUST1072</td><td>James Marsh</td><td>1956-10-02</td><td>EG</td><td>low</td></tr></tbody></table></div>"
      ]
     },
     "metadata": {
      "application/vnd.databricks.v1+output": {
       "addedWidgets": {},
       "aggData": [],
       "aggError": "",
       "aggOverflow": false,
       "aggSchema": [],
       "aggSeriesLimitReached": false,
       "aggType": "",
       "arguments": {},
       "columnCustomDisplayInfos": {},
       "data": [
        [
         "CUST1019",
         "Travis Anderson",
         "1984-12-27",
         "HU",
         "medium"
        ],
        [
         "CUST1020",
         "Tyler Davis",
         "1945-05-10",
         "NR",
         "high"
        ],
        [
         "CUST1062",
         "Lisa Smith",
         "1984-01-29",
         "NE",
         "high"
        ],
        [
         "CUST1063",
         "Thomas Brown",
         "1997-08-30",
         "TG",
         "low"
        ],
        [
         "CUST1072",
         "James Marsh",
         "1956-10-02",
         "EG",
         "low"
        ]
       ],
       "datasetInfos": [],
       "dbfsResultPath": null,
       "isJsonSchema": true,
       "metadata": {},
       "overflow": false,
       "plotOptions": {
        "customPlotOptions": {},
        "displayType": "table",
        "pivotAggregation": null,
        "pivotColumns": null,
        "xColumns": null,
        "yColumns": null
       },
       "removedWidgets": [],
       "schema": [
        {
         "metadata": "{}",
         "name": "customer_id",
         "type": "\"string\""
        },
        {
         "metadata": "{}",
         "name": "name",
         "type": "\"string\""
        },
        {
         "metadata": "{}",
         "name": "birth_date",
         "type": "\"date\""
        },
        {
         "metadata": "{}",
         "name": "country",
         "type": "\"string\""
        },
        {
         "metadata": "{}",
         "name": "risk_segment",
         "type": "\"string\""
        }
       ],
       "type": "table"
      }
     },
     "output_type": "display_data"
    }
   ],
   "source": [
    "from pyspark.sql.functions import to_date, lower\n",
    "\n",
    "df_cust_silver = (\n",
    "    df_cust_bronze\n",
    "      .withColumn(\"birth_date\", to_date(col(\"birth_date\"), \"yyyy-MM-dd\"))\n",
    "      .withColumn(\"country\",    upper(trim(col(\"country\"))))\n",
    "      .withColumn(\"risk_segment\", lower(trim(col(\"risk_segment\"))))  # normalize to lower: low/medium/high\n",
    "      .dropna(subset=[\"customer_id\", \"name\"])                        \n",
    ")\n",
    "\n",
    "display(df_cust_silver.limit(5))\n"
   ]
  },
  {
   "cell_type": "code",
   "execution_count": 0,
   "metadata": {
    "application/vnd.databricks.v1+cell": {
     "cellMetadata": {
      "byteLimit": 2048000,
      "rowLimit": 10000
     },
     "inputWidgets": {},
     "nuid": "cfdd5ee1-a9be-4cd1-bed1-6187da5908bc",
     "showTitle": false,
     "tableResultSettingsMap": {},
     "title": ""
    }
   },
   "outputs": [],
   "source": [
    "# Change to the silver schema and save the work\n",
    "spark.sql(\"USE finance_catalog.silver\")\n",
    "\n",
    "# Save as Delta (overwrite to this lab)\n",
    "df_tx_silver.write.format(\"delta\").mode(\"overwrite\").saveAsTable(\"finance_catalog.silver.transactions\")\n",
    "df_cust_silver.write.format(\"delta\").mode(\"overwrite\").saveAsTable(\"finance_catalog.silver.customers\")\n"
   ]
  },
  {
   "cell_type": "code",
   "execution_count": 0,
   "metadata": {
    "application/vnd.databricks.v1+cell": {
     "cellMetadata": {
      "byteLimit": 2048000,
      "implicitDf": true,
      "rowLimit": 10000
     },
     "inputWidgets": {},
     "nuid": "cb248162-02c9-46d3-8144-f2b2452ee375",
     "showTitle": false,
     "tableResultSettingsMap": {},
     "title": ""
    }
   },
   "outputs": [
    {
     "output_type": "display_data",
     "data": {
      "text/html": [
       "<style scoped>\n",
       "  .table-result-container {\n",
       "    max-height: 300px;\n",
       "    overflow: auto;\n",
       "  }\n",
       "  table, th, td {\n",
       "    border: 1px solid black;\n",
       "    border-collapse: collapse;\n",
       "  }\n",
       "  th, td {\n",
       "    padding: 5px;\n",
       "  }\n",
       "  th {\n",
       "    text-align: left;\n",
       "  }\n",
       "</style><div class='table-result-container'><table class='table-result'><thead style='background-color: white'><tr><th>customer_id</th><th>name</th><th>birth_date</th><th>country</th><th>risk_segment</th></tr></thead><tbody><tr><td>CUST1019</td><td>Travis Anderson</td><td>1984-12-27</td><td>HU</td><td>medium</td></tr><tr><td>CUST1020</td><td>Tyler Davis</td><td>1945-05-10</td><td>NR</td><td>high</td></tr><tr><td>CUST1062</td><td>Lisa Smith</td><td>1984-01-29</td><td>NE</td><td>high</td></tr></tbody></table></div>"
      ]
     },
     "metadata": {
      "application/vnd.databricks.v1+output": {
       "addedWidgets": {},
       "aggData": [],
       "aggError": "",
       "aggOverflow": false,
       "aggSchema": [],
       "aggSeriesLimitReached": false,
       "aggType": "",
       "arguments": {},
       "columnCustomDisplayInfos": {},
       "data": [
        [
         "CUST1019",
         "Travis Anderson",
         "1984-12-27",
         "HU",
         "medium"
        ],
        [
         "CUST1020",
         "Tyler Davis",
         "1945-05-10",
         "NR",
         "high"
        ],
        [
         "CUST1062",
         "Lisa Smith",
         "1984-01-29",
         "NE",
         "high"
        ]
       ],
       "datasetInfos": [
        {
         "name": "_sqldf",
         "schema": {
          "fields": [
           {
            "metadata": {},
            "name": "customer_id",
            "nullable": true,
            "type": "string"
           },
           {
            "metadata": {},
            "name": "name",
            "nullable": true,
            "type": "string"
           },
           {
            "metadata": {},
            "name": "birth_date",
            "nullable": true,
            "type": "date"
           },
           {
            "metadata": {},
            "name": "country",
            "nullable": true,
            "type": "string"
           },
           {
            "metadata": {},
            "name": "risk_segment",
            "nullable": true,
            "type": "string"
           }
          ],
          "type": "struct"
         },
         "tableIdentifier": null,
         "typeStr": "pyspark.sql.connect.dataframe.DataFrame"
        }
       ],
       "dbfsResultPath": null,
       "isJsonSchema": true,
       "metadata": {
        "createTempViewForImplicitDf": true,
        "dataframeName": "_sqldf",
        "executionCount": 15
       },
       "overflow": false,
       "plotOptions": {
        "customPlotOptions": {},
        "displayType": "table",
        "pivotAggregation": null,
        "pivotColumns": null,
        "xColumns": null,
        "yColumns": null
       },
       "removedWidgets": [],
       "schema": [
        {
         "metadata": "{}",
         "name": "customer_id",
         "type": "\"string\""
        },
        {
         "metadata": "{}",
         "name": "name",
         "type": "\"string\""
        },
        {
         "metadata": "{}",
         "name": "birth_date",
         "type": "\"date\""
        },
        {
         "metadata": "{}",
         "name": "country",
         "type": "\"string\""
        },
        {
         "metadata": "{}",
         "name": "risk_segment",
         "type": "\"string\""
        }
       ],
       "type": "table"
      }
     },
     "output_type": "display_data"
    }
   ],
   "source": [
    "%sql\n",
    "\n",
    "SHOW TABLES in finance_catalog.silver;\n",
    "SELECT * FROM finance_catalog.silver.transactions LIMIT 3;\n",
    "SELECT * FROM finance_catalog.silver.customers  LIMIT 3;"
   ]
  },
  {
   "cell_type": "code",
   "execution_count": 0,
   "metadata": {
    "application/vnd.databricks.v1+cell": {
     "cellMetadata": {
      "byteLimit": 2048000,
      "implicitDf": true,
      "rowLimit": 10000
     },
     "inputWidgets": {},
     "nuid": "6f28f5de-7079-4ffb-906c-afa9b062de52",
     "showTitle": false,
     "tableResultSettingsMap": {
      "0": {
       "dataGridStateBlob": "{\"version\":1,\"tableState\":{\"columnPinning\":{\"left\":[\"#row_number#\"],\"right\":[]},\"columnSizing\":{\"min_ts\":224,\"max_ts\":238},\"columnVisibility\":{}},\"settings\":{\"columns\":{}},\"syncTimestamp\":1758831774894}",
       "filterBlob": null,
       "queryPlanFiltersBlob": null,
       "tableResultIndex": 0
      }
     },
     "title": ""
    }
   },
   "outputs": [
    {
     "output_type": "display_data",
     "data": {
      "text/html": [
       "<style scoped>\n",
       "  .table-result-container {\n",
       "    max-height: 300px;\n",
       "    overflow: auto;\n",
       "  }\n",
       "  table, th, td {\n",
       "    border: 1px solid black;\n",
       "    border-collapse: collapse;\n",
       "  }\n",
       "  th, td {\n",
       "    padding: 5px;\n",
       "  }\n",
       "  th {\n",
       "    text-align: left;\n",
       "  }\n",
       "</style><div class='table-result-container'><table class='table-result'><thead style='background-color: white'><tr><th>min_ts</th><th>max_ts</th></tr></thead><tbody><tr><td>2025-01-01T00:06:55.000Z</td><td>2025-09-12T14:59:03.000Z</td></tr></tbody></table></div>"
      ]
     },
     "metadata": {
      "application/vnd.databricks.v1+output": {
       "addedWidgets": {},
       "aggData": [],
       "aggError": "",
       "aggOverflow": false,
       "aggSchema": [],
       "aggSeriesLimitReached": false,
       "aggType": "",
       "arguments": {},
       "columnCustomDisplayInfos": {},
       "data": [
        [
         "2025-01-01T00:06:55.000Z",
         "2025-09-12T14:59:03.000Z"
        ]
       ],
       "datasetInfos": [
        {
         "name": "_sqldf",
         "schema": {
          "fields": [
           {
            "metadata": {},
            "name": "min_ts",
            "nullable": true,
            "type": "timestamp"
           },
           {
            "metadata": {},
            "name": "max_ts",
            "nullable": true,
            "type": "timestamp"
           }
          ],
          "type": "struct"
         },
         "tableIdentifier": null,
         "typeStr": "pyspark.sql.connect.dataframe.DataFrame"
        }
       ],
       "dbfsResultPath": null,
       "isJsonSchema": true,
       "metadata": {
        "createTempViewForImplicitDf": true,
        "dataframeName": "_sqldf",
        "executionCount": 16
       },
       "overflow": false,
       "plotOptions": {
        "customPlotOptions": {},
        "displayType": "table",
        "pivotAggregation": null,
        "pivotColumns": null,
        "xColumns": null,
        "yColumns": null
       },
       "removedWidgets": [],
       "schema": [
        {
         "metadata": "{}",
         "name": "min_ts",
         "type": "\"timestamp\""
        },
        {
         "metadata": "{}",
         "name": "max_ts",
         "type": "\"timestamp\""
        }
       ],
       "type": "table"
      }
     },
     "output_type": "display_data"
    }
   ],
   "source": [
    "%sql\n",
    "SELECT COUNT(*) n_null_amount FROM finance_catalog.silver.transactions WHERE amount IS NULL;\n",
    "SELECT MIN(timestamp) min_ts, MAX(timestamp) max_ts FROM finance_catalog.silver.transactions;"
   ]
  }
 ],
 "metadata": {
  "application/vnd.databricks.v1+notebook": {
   "computePreferences": null,
   "dashboards": [],
   "environmentMetadata": {
    "base_environment": "",
    "environment_version": "3"
   },
   "inputWidgetPreferences": null,
   "language": "python",
   "notebookMetadata": {
    "mostRecentlyExecutedCommandWithImplicitDF": {
     "commandId": 5069186347943348,
     "dataframes": [
      "_sqldf"
     ]
    },
    "pythonIndentUnit": 4
   },
   "notebookName": "02_bronze_to_silver",
   "widgets": {}
  },
  "language_info": {
   "name": "python"
  }
 },
 "nbformat": 4,
 "nbformat_minor": 0
}