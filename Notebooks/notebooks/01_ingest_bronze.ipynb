{
 "cells": [
  {
   "cell_type": "code",
   "execution_count": 0,
   "metadata": {
    "application/vnd.databricks.v1+cell": {
     "cellMetadata": {
      "byteLimit": 2048000,
      "rowLimit": 10000
     },
     "inputWidgets": {},
     "nuid": "66755772-1813-4bcf-ac38-7523fac3b011",
     "showTitle": false,
     "tableResultSettingsMap": {},
     "title": ""
    }
   },
   "outputs": [
    {
     "output_type": "display_data",
     "data": {
      "text/html": [
       "<style scoped>\n",
       "  .table-result-container {\n",
       "    max-height: 300px;\n",
       "    overflow: auto;\n",
       "  }\n",
       "  table, th, td {\n",
       "    border: 1px solid black;\n",
       "    border-collapse: collapse;\n",
       "  }\n",
       "  th, td {\n",
       "    padding: 5px;\n",
       "  }\n",
       "  th {\n",
       "    text-align: left;\n",
       "  }\n",
       "</style><div class='table-result-container'><table class='table-result'><thead style='background-color: white'><tr><th>path</th><th>name</th><th>size</th><th>modificationTime</th></tr></thead><tbody><tr><td>abfss://landing@definproject.dfs.core.windows.net/customers.csv</td><td>customers.csv</td><td>21532</td><td>1758748738000</td></tr><tr><td>abfss://landing@definproject.dfs.core.windows.net/transactions_2024.csv</td><td>transactions_2024.csv</td><td>765802</td><td>1758748738000</td></tr><tr><td>abfss://landing@definproject.dfs.core.windows.net/transactions_day1.csv</td><td>transactions_day1.csv</td><td>153940</td><td>1758748760000</td></tr><tr><td>abfss://landing@definproject.dfs.core.windows.net/transactions_day2.csv</td><td>transactions_day2.csv</td><td>153305</td><td>1758748760000</td></tr><tr><td>abfss://landing@definproject.dfs.core.windows.net/transactions_day3.csv</td><td>transactions_day3.csv</td><td>152774</td><td>1758748761000</td></tr><tr><td>abfss://landing@definproject.dfs.core.windows.net/transactions_day4.csv</td><td>transactions_day4.csv</td><td>152969</td><td>1758748761000</td></tr><tr><td>abfss://landing@definproject.dfs.core.windows.net/transactions_day5.csv</td><td>transactions_day5.csv</td><td>153206</td><td>1758748761000</td></tr></tbody></table></div>"
      ]
     },
     "metadata": {
      "application/vnd.databricks.v1+output": {
       "addedWidgets": {},
       "aggData": [],
       "aggError": "",
       "aggOverflow": false,
       "aggSchema": [],
       "aggSeriesLimitReached": false,
       "aggType": "",
       "arguments": {},
       "columnCustomDisplayInfos": {},
       "data": [
        [
         "abfss://landing@definproject.dfs.core.windows.net/customers.csv",
         "customers.csv",
         21532,
         1758748738000
        ],
        [
         "abfss://landing@definproject.dfs.core.windows.net/transactions_2024.csv",
         "transactions_2024.csv",
         765802,
         1758748738000
        ],
        [
         "abfss://landing@definproject.dfs.core.windows.net/transactions_day1.csv",
         "transactions_day1.csv",
         153940,
         1758748760000
        ],
        [
         "abfss://landing@definproject.dfs.core.windows.net/transactions_day2.csv",
         "transactions_day2.csv",
         153305,
         1758748760000
        ],
        [
         "abfss://landing@definproject.dfs.core.windows.net/transactions_day3.csv",
         "transactions_day3.csv",
         152774,
         1758748761000
        ],
        [
         "abfss://landing@definproject.dfs.core.windows.net/transactions_day4.csv",
         "transactions_day4.csv",
         152969,
         1758748761000
        ],
        [
         "abfss://landing@definproject.dfs.core.windows.net/transactions_day5.csv",
         "transactions_day5.csv",
         153206,
         1758748761000
        ]
       ],
       "datasetInfos": [],
       "dbfsResultPath": null,
       "isJsonSchema": true,
       "metadata": {},
       "overflow": false,
       "plotOptions": {
        "customPlotOptions": {},
        "displayType": "table",
        "pivotAggregation": null,
        "pivotColumns": null,
        "xColumns": null,
        "yColumns": null
       },
       "removedWidgets": [],
       "schema": [
        {
         "metadata": "{}",
         "name": "path",
         "type": "\"string\""
        },
        {
         "metadata": "{}",
         "name": "name",
         "type": "\"string\""
        },
        {
         "metadata": "{}",
         "name": "size",
         "type": "\"long\""
        },
        {
         "metadata": "{}",
         "name": "modificationTime",
         "type": "\"long\""
        }
       ],
       "type": "table"
      }
     },
     "output_type": "display_data"
    }
   ],
   "source": [
    "storage_account = \"definproject\"\n",
    "landing = f\"abfss://landing@{storage_account}.dfs.core.windows.net\"\n",
    "\n",
    "# Use Unity Catalog \n",
    "spark.sql(\"USE CATALOG finance_catalog\")\n",
    "spark.sql(\"USE finance_catalog.bronze\")\n",
    "\n",
    "display(dbutils.fs.ls(landing))  \n"
   ]
  },
  {
   "cell_type": "code",
   "execution_count": 0,
   "metadata": {
    "application/vnd.databricks.v1+cell": {
     "cellMetadata": {
      "byteLimit": 2048000,
      "rowLimit": 10000
     },
     "inputWidgets": {},
     "nuid": "5936b6e7-96b5-4b7b-8ca3-efc884a1b356",
     "showTitle": false,
     "tableResultSettingsMap": {},
     "title": ""
    }
   },
   "outputs": [
    {
     "output_type": "display_data",
     "data": {
      "text/html": [
       "<style scoped>\n",
       "  .table-result-container {\n",
       "    max-height: 300px;\n",
       "    overflow: auto;\n",
       "  }\n",
       "  table, th, td {\n",
       "    border: 1px solid black;\n",
       "    border-collapse: collapse;\n",
       "  }\n",
       "  th, td {\n",
       "    padding: 5px;\n",
       "  }\n",
       "  th {\n",
       "    text-align: left;\n",
       "  }\n",
       "</style><div class='table-result-container'><table class='table-result'><thead style='background-color: white'><tr><th>transaction_id</th><th>customer_id</th><th>timestamp</th><th>origin_country</th><th>destination_country</th><th>amount</th><th>currency</th><th>merchant</th></tr></thead><tbody><tr><td>TXN000001</td><td>CUST2132</td><td>2025-06-23 15:44:56</td><td>SG</td><td>NL</td><td>17415.01</td><td>USD</td><td>Hernandez, Spears and Barnes</td></tr><tr><td>TXN000002</td><td>CUST7351</td><td>2025-07-10 07:47:38</td><td>PE</td><td>UY</td><td>18087.38</td><td>USD</td><td>Harris Group</td></tr><tr><td>TXN000003</td><td>CUST5966</td><td>2025-03-26 22:23:20</td><td>KH</td><td>US</td><td>10468.63</td><td>USD</td><td>Yoder-Lewis</td></tr><tr><td>TXN000004</td><td>CUST1574</td><td>2025-05-29 05:08:34</td><td>BR</td><td>GR</td><td>533.68</td><td>USD</td><td>Anderson, Schmitt and Bates</td></tr><tr><td>TXN000005</td><td>CUST6664</td><td>2025-05-10 15:32:16</td><td>LA</td><td>AO</td><td>3941.5</td><td>USD</td><td>Elliott, Dawson and Evans</td></tr></tbody></table></div>"
      ]
     },
     "metadata": {
      "application/vnd.databricks.v1+output": {
       "addedWidgets": {},
       "aggData": [],
       "aggError": "",
       "aggOverflow": false,
       "aggSchema": [],
       "aggSeriesLimitReached": false,
       "aggType": "",
       "arguments": {},
       "columnCustomDisplayInfos": {},
       "data": [
        [
         "TXN000001",
         "CUST2132",
         "2025-06-23 15:44:56",
         "SG",
         "NL",
         "17415.01",
         "USD",
         "Hernandez, Spears and Barnes"
        ],
        [
         "TXN000002",
         "CUST7351",
         "2025-07-10 07:47:38",
         "PE",
         "UY",
         "18087.38",
         "USD",
         "Harris Group"
        ],
        [
         "TXN000003",
         "CUST5966",
         "2025-03-26 22:23:20",
         "KH",
         "US",
         "10468.63",
         "USD",
         "Yoder-Lewis"
        ],
        [
         "TXN000004",
         "CUST1574",
         "2025-05-29 05:08:34",
         "BR",
         "GR",
         "533.68",
         "USD",
         "Anderson, Schmitt and Bates"
        ],
        [
         "TXN000005",
         "CUST6664",
         "2025-05-10 15:32:16",
         "LA",
         "AO",
         "3941.5",
         "USD",
         "Elliott, Dawson and Evans"
        ]
       ],
       "datasetInfos": [],
       "dbfsResultPath": null,
       "isJsonSchema": true,
       "metadata": {},
       "overflow": false,
       "plotOptions": {
        "customPlotOptions": {},
        "displayType": "table",
        "pivotAggregation": null,
        "pivotColumns": null,
        "xColumns": null,
        "yColumns": null
       },
       "removedWidgets": [],
       "schema": [
        {
         "metadata": "{}",
         "name": "transaction_id",
         "type": "\"string\""
        },
        {
         "metadata": "{}",
         "name": "customer_id",
         "type": "\"string\""
        },
        {
         "metadata": "{}",
         "name": "timestamp",
         "type": "\"string\""
        },
        {
         "metadata": "{}",
         "name": "origin_country",
         "type": "\"string\""
        },
        {
         "metadata": "{}",
         "name": "destination_country",
         "type": "\"string\""
        },
        {
         "metadata": "{}",
         "name": "amount",
         "type": "\"string\""
        },
        {
         "metadata": "{}",
         "name": "currency",
         "type": "\"string\""
        },
        {
         "metadata": "{}",
         "name": "merchant",
         "type": "\"string\""
        }
       ],
       "type": "table"
      }
     },
     "output_type": "display_data"
    }
   ],
   "source": [
    "tx_path = f\"{landing}/transactions_2024.csv\"\n",
    "\n",
    "df_tx = (spark.read\n",
    "         .format(\"csv\")\n",
    "         .option(\"header\",\"true\")\n",
    "         .load(tx_path))\n",
    "\n",
    "display(df_tx.limit(5))\n",
    "\n",
    "(df_tx.write\n",
    "    .format(\"delta\")\n",
    "    .mode(\"overwrite\")\n",
    "    .saveAsTable(\"finance_catalog.bronze.transactions\"))\n"
   ]
  },
  {
   "cell_type": "code",
   "execution_count": 0,
   "metadata": {
    "application/vnd.databricks.v1+cell": {
     "cellMetadata": {
      "byteLimit": 2048000,
      "rowLimit": 10000
     },
     "inputWidgets": {},
     "nuid": "1a5456af-e937-4549-b567-fad5160c79a7",
     "showTitle": false,
     "tableResultSettingsMap": {},
     "title": ""
    }
   },
   "outputs": [
    {
     "output_type": "display_data",
     "data": {
      "text/html": [
       "<style scoped>\n",
       "  .table-result-container {\n",
       "    max-height: 300px;\n",
       "    overflow: auto;\n",
       "  }\n",
       "  table, th, td {\n",
       "    border: 1px solid black;\n",
       "    border-collapse: collapse;\n",
       "  }\n",
       "  th, td {\n",
       "    padding: 5px;\n",
       "  }\n",
       "  th {\n",
       "    text-align: left;\n",
       "  }\n",
       "</style><div class='table-result-container'><table class='table-result'><thead style='background-color: white'><tr><th>customer_id</th><th>name</th><th>birth_date</th><th>country</th><th>risk_segment</th></tr></thead><tbody><tr><td>CUST1019</td><td>Travis Anderson</td><td>1984-12-27</td><td>HU</td><td>medium</td></tr><tr><td>CUST1020</td><td>Tyler Davis</td><td>1945-05-10</td><td>NR</td><td>high</td></tr><tr><td>CUST1062</td><td>Lisa Smith</td><td>1984-01-29</td><td>NE</td><td>high</td></tr><tr><td>CUST1063</td><td>Thomas Brown</td><td>1997-08-30</td><td>TG</td><td>low</td></tr><tr><td>CUST1072</td><td>James Marsh</td><td>1956-10-02</td><td>EG</td><td>low</td></tr></tbody></table></div>"
      ]
     },
     "metadata": {
      "application/vnd.databricks.v1+output": {
       "addedWidgets": {},
       "aggData": [],
       "aggError": "",
       "aggOverflow": false,
       "aggSchema": [],
       "aggSeriesLimitReached": false,
       "aggType": "",
       "arguments": {},
       "columnCustomDisplayInfos": {},
       "data": [
        [
         "CUST1019",
         "Travis Anderson",
         "1984-12-27",
         "HU",
         "medium"
        ],
        [
         "CUST1020",
         "Tyler Davis",
         "1945-05-10",
         "NR",
         "high"
        ],
        [
         "CUST1062",
         "Lisa Smith",
         "1984-01-29",
         "NE",
         "high"
        ],
        [
         "CUST1063",
         "Thomas Brown",
         "1997-08-30",
         "TG",
         "low"
        ],
        [
         "CUST1072",
         "James Marsh",
         "1956-10-02",
         "EG",
         "low"
        ]
       ],
       "datasetInfos": [],
       "dbfsResultPath": null,
       "isJsonSchema": true,
       "metadata": {},
       "overflow": false,
       "plotOptions": {
        "customPlotOptions": {},
        "displayType": "table",
        "pivotAggregation": null,
        "pivotColumns": null,
        "xColumns": null,
        "yColumns": null
       },
       "removedWidgets": [],
       "schema": [
        {
         "metadata": "{}",
         "name": "customer_id",
         "type": "\"string\""
        },
        {
         "metadata": "{}",
         "name": "name",
         "type": "\"string\""
        },
        {
         "metadata": "{}",
         "name": "birth_date",
         "type": "\"string\""
        },
        {
         "metadata": "{}",
         "name": "country",
         "type": "\"string\""
        },
        {
         "metadata": "{}",
         "name": "risk_segment",
         "type": "\"string\""
        }
       ],
       "type": "table"
      }
     },
     "output_type": "display_data"
    }
   ],
   "source": [
    "cust_path = f\"{landing}/customers.csv\"\n",
    "\n",
    "df_cust = (spark.read\n",
    "           .format(\"csv\")\n",
    "           .option(\"header\",\"true\")\n",
    "           .load(cust_path))\n",
    "\n",
    "display(df_cust.limit(5))\n",
    "\n",
    "(df_cust.write\n",
    "    .format(\"delta\")\n",
    "    .mode(\"overwrite\")\n",
    "    .saveAsTable(\"finance_catalog.bronze.customers\"))\n"
   ]
  },
  {
   "cell_type": "code",
   "execution_count": 0,
   "metadata": {
    "application/vnd.databricks.v1+cell": {
     "cellMetadata": {
      "byteLimit": 2048000,
      "implicitDf": true,
      "rowLimit": 10000
     },
     "inputWidgets": {},
     "nuid": "f9acdce3-862c-4ce2-bda5-3f8775b9f72a",
     "showTitle": false,
     "tableResultSettingsMap": {},
     "title": ""
    }
   },
   "outputs": [
    {
     "output_type": "display_data",
     "data": {
      "text/html": [
       "<style scoped>\n",
       "  .table-result-container {\n",
       "    max-height: 300px;\n",
       "    overflow: auto;\n",
       "  }\n",
       "  table, th, td {\n",
       "    border: 1px solid black;\n",
       "    border-collapse: collapse;\n",
       "  }\n",
       "  th, td {\n",
       "    padding: 5px;\n",
       "  }\n",
       "  th {\n",
       "    text-align: left;\n",
       "  }\n",
       "</style><div class='table-result-container'><table class='table-result'><thead style='background-color: white'><tr><th>customer_id</th><th>name</th><th>birth_date</th><th>country</th><th>risk_segment</th></tr></thead><tbody><tr><td>CUST1019</td><td>Travis Anderson</td><td>1984-12-27</td><td>HU</td><td>medium</td></tr><tr><td>CUST1020</td><td>Tyler Davis</td><td>1945-05-10</td><td>NR</td><td>high</td></tr><tr><td>CUST1062</td><td>Lisa Smith</td><td>1984-01-29</td><td>NE</td><td>high</td></tr><tr><td>CUST1063</td><td>Thomas Brown</td><td>1997-08-30</td><td>TG</td><td>low</td></tr></tbody></table></div>"
      ]
     },
     "metadata": {
      "application/vnd.databricks.v1+output": {
       "addedWidgets": {},
       "aggData": [],
       "aggError": "",
       "aggOverflow": false,
       "aggSchema": [],
       "aggSeriesLimitReached": false,
       "aggType": "",
       "arguments": {},
       "columnCustomDisplayInfos": {},
       "data": [
        [
         "CUST1019",
         "Travis Anderson",
         "1984-12-27",
         "HU",
         "medium"
        ],
        [
         "CUST1020",
         "Tyler Davis",
         "1945-05-10",
         "NR",
         "high"
        ],
        [
         "CUST1062",
         "Lisa Smith",
         "1984-01-29",
         "NE",
         "high"
        ],
        [
         "CUST1063",
         "Thomas Brown",
         "1997-08-30",
         "TG",
         "low"
        ]
       ],
       "datasetInfos": [
        {
         "name": "_sqldf",
         "schema": {
          "fields": [
           {
            "metadata": {},
            "name": "customer_id",
            "nullable": true,
            "type": "string"
           },
           {
            "metadata": {},
            "name": "name",
            "nullable": true,
            "type": "string"
           },
           {
            "metadata": {},
            "name": "birth_date",
            "nullable": true,
            "type": "string"
           },
           {
            "metadata": {},
            "name": "country",
            "nullable": true,
            "type": "string"
           },
           {
            "metadata": {},
            "name": "risk_segment",
            "nullable": true,
            "type": "string"
           }
          ],
          "type": "struct"
         },
         "tableIdentifier": null,
         "typeStr": "pyspark.sql.connect.dataframe.DataFrame"
        }
       ],
       "dbfsResultPath": null,
       "isJsonSchema": true,
       "metadata": {
        "createTempViewForImplicitDf": true,
        "dataframeName": "_sqldf",
        "executionCount": 10
       },
       "overflow": false,
       "plotOptions": {
        "customPlotOptions": {},
        "displayType": "table",
        "pivotAggregation": null,
        "pivotColumns": null,
        "xColumns": null,
        "yColumns": null
       },
       "removedWidgets": [],
       "schema": [
        {
         "metadata": "{}",
         "name": "customer_id",
         "type": "\"string\""
        },
        {
         "metadata": "{}",
         "name": "name",
         "type": "\"string\""
        },
        {
         "metadata": "{}",
         "name": "birth_date",
         "type": "\"string\""
        },
        {
         "metadata": "{}",
         "name": "country",
         "type": "\"string\""
        },
        {
         "metadata": "{}",
         "name": "risk_segment",
         "type": "\"string\""
        }
       ],
       "type": "table"
      }
     },
     "output_type": "display_data"
    }
   ],
   "source": [
    "%sql\n",
    "SHOW TABLES IN finance_catalog.bronze;\n",
    "\n",
    "SELECT * FROM finance_catalog.bronze.transactions LIMIT 4;\n",
    "SELECT * FROM finance_catalog.bronze.customers  LIMIT 4;\n"
   ]
  }
 ],
 "metadata": {
  "application/vnd.databricks.v1+notebook": {
   "computePreferences": null,
   "dashboards": [],
   "environmentMetadata": {
    "base_environment": "",
    "environment_version": "3"
   },
   "inputWidgetPreferences": null,
   "language": "python",
   "notebookMetadata": {
    "mostRecentlyExecutedCommandWithImplicitDF": {
     "commandId": 4586553039415760,
     "dataframes": [
      "_sqldf"
     ]
    },
    "pythonIndentUnit": 4
   },
   "notebookName": "01_ingesta_bronze",
   "widgets": {}
  },
  "language_info": {
   "name": "python"
  }
 },
 "nbformat": 4,
 "nbformat_minor": 0
}