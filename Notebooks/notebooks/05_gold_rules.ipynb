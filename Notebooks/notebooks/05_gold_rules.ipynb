{
 "cells": [
  {
   "cell_type": "code",
   "execution_count": 0,
   "metadata": {
    "application/vnd.databricks.v1+cell": {
     "cellMetadata": {
      "byteLimit": 2048000,
      "rowLimit": 10000
     },
     "inputWidgets": {},
     "nuid": "5f7c94d7-017e-41d8-9297-6bf38278f673",
     "showTitle": false,
     "tableResultSettingsMap": {},
     "title": ""
    }
   },
   "outputs": [
    {
     "output_type": "display_data",
     "data": {
      "text/html": [
       "<style scoped>\n",
       "  .table-result-container {\n",
       "    max-height: 300px;\n",
       "    overflow: auto;\n",
       "  }\n",
       "  table, th, td {\n",
       "    border: 1px solid black;\n",
       "    border-collapse: collapse;\n",
       "  }\n",
       "  th, td {\n",
       "    padding: 5px;\n",
       "  }\n",
       "  th {\n",
       "    text-align: left;\n",
       "  }\n",
       "</style><div class='table-result-container'><table class='table-result'><thead style='background-color: white'><tr></tr></thead><tbody></tbody></table></div>"
      ]
     },
     "metadata": {
      "application/vnd.databricks.v1+output": {
       "addedWidgets": {},
       "aggData": [],
       "aggError": "",
       "aggOverflow": false,
       "aggSchema": [],
       "aggSeriesLimitReached": false,
       "aggType": "",
       "arguments": {},
       "columnCustomDisplayInfos": {},
       "data": [],
       "datasetInfos": [],
       "dbfsResultPath": null,
       "isJsonSchema": true,
       "metadata": {
        "isDbfsCommandResult": false
       },
       "overflow": false,
       "plotOptions": {
        "customPlotOptions": {},
        "displayType": "table",
        "pivotAggregation": null,
        "pivotColumns": null,
        "xColumns": null,
        "yColumns": null
       },
       "removedWidgets": [],
       "schema": [],
       "type": "table"
      }
     },
     "output_type": "display_data"
    }
   ],
   "source": [
    "-- =========================================================\n",
    "-- 05_gold_rules.sql  (Día 7 – Procesamiento Gold)\n",
    "-- Objetivo:\n",
    "--  - Crear schemas ref/gold si no existen\n",
    "--  - Enriquecer desde Silver con reglas y scoring\n",
    "--  - Crear gold.transactions_enriched y gold.transactions_alerts\n",
    "-- Reglas:\n",
    "--   R1: amount > 15000                  (peso 40)\n",
    "--   R2: hour < 6 OR hour > 22           (peso 20)\n",
    "--   R3: último mes > (μ + 2σ) tx/mes    (peso 50)\n",
    "-- =========================================================\n",
    "\n",
    "-- 0) Contexto UC\n",
    "USE CATALOG finance_catalog;\n",
    "CREATE SCHEMA IF NOT EXISTS ref;\n",
    "CREATE SCHEMA IF NOT EXISTS gold;\n",
    "\n",
    "-- Ref placeholder\n",
    "CREATE TABLE IF NOT EXISTS ref.placeholders (k STRING, v STRING)\n",
    "TBLPROPERTIES('quality'='ref');\n"
   ]
  },
  {
   "cell_type": "code",
   "execution_count": 0,
   "metadata": {
    "application/vnd.databricks.v1+cell": {
     "cellMetadata": {
      "byteLimit": 2048000,
      "rowLimit": 10000
     },
     "inputWidgets": {},
     "nuid": "7ed36d6d-c948-43a2-aacd-c579d5bb5a69",
     "showTitle": false,
     "tableResultSettingsMap": {},
     "title": ""
    }
   },
   "outputs": [
    {
     "output_type": "display_data",
     "data": {
      "text/html": [
       "<style scoped>\n",
       "  .table-result-container {\n",
       "    max-height: 300px;\n",
       "    overflow: auto;\n",
       "  }\n",
       "  table, th, td {\n",
       "    border: 1px solid black;\n",
       "    border-collapse: collapse;\n",
       "  }\n",
       "  th, td {\n",
       "    padding: 5px;\n",
       "  }\n",
       "  th {\n",
       "    text-align: left;\n",
       "  }\n",
       "</style><div class='table-result-container'><table class='table-result'><thead style='background-color: white'><tr></tr></thead><tbody></tbody></table></div>"
      ]
     },
     "metadata": {
      "application/vnd.databricks.v1+output": {
       "addedWidgets": {},
       "aggData": [],
       "aggError": "",
       "aggOverflow": false,
       "aggSchema": [],
       "aggSeriesLimitReached": false,
       "aggType": "",
       "arguments": {},
       "columnCustomDisplayInfos": {},
       "data": [],
       "datasetInfos": [],
       "dbfsResultPath": null,
       "isJsonSchema": true,
       "metadata": {
        "isDbfsCommandResult": false
       },
       "overflow": false,
       "plotOptions": {
        "customPlotOptions": {},
        "displayType": "table",
        "pivotAggregation": null,
        "pivotColumns": null,
        "xColumns": null,
        "yColumns": null
       },
       "removedWidgets": [],
       "schema": [],
       "type": "table"
      }
     },
     "output_type": "display_data"
    }
   ],
   "source": [
    "-- 1) Base desde Silver (limpia) + hora + fuera de horario\n",
    "DROP VIEW IF EXISTS v_tx_silver;\n",
    "CREATE OR REPLACE TEMP VIEW v_tx_silver AS\n",
    "SELECT\n",
    "  t.*,\n",
    "  hour(t.timestamp) AS tx_hour,\n",
    "  CASE WHEN hour(t.timestamp) < 6 OR hour(t.timestamp) > 22 THEN 1 ELSE 0 END AS rule_off_hours\n",
    "FROM finance_catalog.silver.transactions t;"
   ]
  },
  {
   "cell_type": "code",
   "execution_count": 0,
   "metadata": {
    "application/vnd.databricks.v1+cell": {
     "cellMetadata": {
      "byteLimit": 2048000,
      "rowLimit": 10000
     },
     "inputWidgets": {},
     "nuid": "8a5bd141-ea4e-4e2d-9a4d-1bafc7d72d46",
     "showTitle": false,
     "tableResultSettingsMap": {},
     "title": ""
    }
   },
   "outputs": [
    {
     "output_type": "display_data",
     "data": {
      "text/html": [
       "<style scoped>\n",
       "  .table-result-container {\n",
       "    max-height: 300px;\n",
       "    overflow: auto;\n",
       "  }\n",
       "  table, th, td {\n",
       "    border: 1px solid black;\n",
       "    border-collapse: collapse;\n",
       "  }\n",
       "  th, td {\n",
       "    padding: 5px;\n",
       "  }\n",
       "  th {\n",
       "    text-align: left;\n",
       "  }\n",
       "</style><div class='table-result-container'><table class='table-result'><thead style='background-color: white'><tr></tr></thead><tbody></tbody></table></div>"
      ]
     },
     "metadata": {
      "application/vnd.databricks.v1+output": {
       "addedWidgets": {},
       "aggData": [],
       "aggError": "",
       "aggOverflow": false,
       "aggSchema": [],
       "aggSeriesLimitReached": false,
       "aggType": "",
       "arguments": {},
       "columnCustomDisplayInfos": {},
       "data": [],
       "datasetInfos": [],
       "dbfsResultPath": null,
       "isJsonSchema": true,
       "metadata": {
        "isDbfsCommandResult": false
       },
       "overflow": false,
       "plotOptions": {
        "customPlotOptions": {},
        "displayType": "table",
        "pivotAggregation": null,
        "pivotColumns": null,
        "xColumns": null,
        "yColumns": null
       },
       "removedWidgets": [],
       "schema": [],
       "type": "table"
      }
     },
     "output_type": "display_data"
    }
   ],
   "source": [
    "-- 2) Estadística mensual por cliente (conteo)\n",
    "DROP VIEW IF EXISTS v_monthly_counts;\n",
    "CREATE OR REPLACE TEMP VIEW v_monthly_counts AS\n",
    "SELECT\n",
    "  customer_id,\n",
    "  date_trunc('month', timestamp) AS ym,\n",
    "  COUNT(*)                       AS tx_count\n",
    "FROM v_tx_silver\n",
    "GROUP BY customer_id, date_trunc('month', timestamp);"
   ]
  },
  {
   "cell_type": "code",
   "execution_count": 0,
   "metadata": {
    "application/vnd.databricks.v1+cell": {
     "cellMetadata": {
      "byteLimit": 2048000,
      "rowLimit": 10000
     },
     "inputWidgets": {},
     "nuid": "41847ff3-9597-4a82-b0a9-33b3a6250658",
     "showTitle": false,
     "tableResultSettingsMap": {},
     "title": ""
    }
   },
   "outputs": [
    {
     "output_type": "display_data",
     "data": {
      "text/html": [
       "<style scoped>\n",
       "  .table-result-container {\n",
       "    max-height: 300px;\n",
       "    overflow: auto;\n",
       "  }\n",
       "  table, th, td {\n",
       "    border: 1px solid black;\n",
       "    border-collapse: collapse;\n",
       "  }\n",
       "  th, td {\n",
       "    padding: 5px;\n",
       "  }\n",
       "  th {\n",
       "    text-align: left;\n",
       "  }\n",
       "</style><div class='table-result-container'><table class='table-result'><thead style='background-color: white'><tr></tr></thead><tbody></tbody></table></div>"
      ]
     },
     "metadata": {
      "application/vnd.databricks.v1+output": {
       "addedWidgets": {},
       "aggData": [],
       "aggError": "",
       "aggOverflow": false,
       "aggSchema": [],
       "aggSeriesLimitReached": false,
       "aggType": "",
       "arguments": {},
       "columnCustomDisplayInfos": {},
       "data": [],
       "datasetInfos": [],
       "dbfsResultPath": null,
       "isJsonSchema": true,
       "metadata": {
        "isDbfsCommandResult": false
       },
       "overflow": false,
       "plotOptions": {
        "customPlotOptions": {},
        "displayType": "table",
        "pivotAggregation": null,
        "pivotColumns": null,
        "xColumns": null,
        "yColumns": null
       },
       "removedWidgets": [],
       "schema": [],
       "type": "table"
      }
     },
     "output_type": "display_data"
    }
   ],
   "source": [
    "-- 3) μ y σ por cliente + último mes del dataset\n",
    "DROP VIEW IF EXISTS v_stats_per_customer;\n",
    "CREATE OR REPLACE TEMP VIEW v_stats_per_customer AS\n",
    "SELECT\n",
    "  customer_id,\n",
    "  AVG(tx_count)         AS mu,\n",
    "  stddev_samp(tx_count) AS sigma\n",
    "FROM v_monthly_counts\n",
    "GROUP BY customer_id;\n",
    "\n",
    "DROP VIEW IF EXISTS v_last_month;\n",
    "CREATE OR REPLACE TEMP VIEW v_last_month AS\n",
    "SELECT MAX(ym) AS last_month FROM v_monthly_counts;\n"
   ]
  },
  {
   "cell_type": "code",
   "execution_count": 0,
   "metadata": {
    "application/vnd.databricks.v1+cell": {
     "cellMetadata": {
      "byteLimit": 2048000,
      "rowLimit": 10000
     },
     "inputWidgets": {},
     "nuid": "375381a2-9c68-4227-920b-b195b85b3d10",
     "showTitle": false,
     "tableResultSettingsMap": {},
     "title": ""
    }
   },
   "outputs": [
    {
     "output_type": "display_data",
     "data": {
      "text/html": [
       "<style scoped>\n",
       "  .table-result-container {\n",
       "    max-height: 300px;\n",
       "    overflow: auto;\n",
       "  }\n",
       "  table, th, td {\n",
       "    border: 1px solid black;\n",
       "    border-collapse: collapse;\n",
       "  }\n",
       "  th, td {\n",
       "    padding: 5px;\n",
       "  }\n",
       "  th {\n",
       "    text-align: left;\n",
       "  }\n",
       "</style><div class='table-result-container'><table class='table-result'><thead style='background-color: white'><tr></tr></thead><tbody></tbody></table></div>"
      ]
     },
     "metadata": {
      "application/vnd.databricks.v1+output": {
       "addedWidgets": {},
       "aggData": [],
       "aggError": "",
       "aggOverflow": false,
       "aggSchema": [],
       "aggSeriesLimitReached": false,
       "aggType": "",
       "arguments": {},
       "columnCustomDisplayInfos": {},
       "data": [],
       "datasetInfos": [],
       "dbfsResultPath": null,
       "isJsonSchema": true,
       "metadata": {
        "isDbfsCommandResult": false
       },
       "overflow": false,
       "plotOptions": {
        "customPlotOptions": {},
        "displayType": "table",
        "pivotAggregation": null,
        "pivotColumns": null,
        "xColumns": null,
        "yColumns": null
       },
       "removedWidgets": [],
       "schema": [],
       "type": "table"
      }
     },
     "output_type": "display_data"
    }
   ],
   "source": [
    "-- 4) Clientes con “var-spike” en el último mes (tx_count > μ + 2σ)\n",
    "DROP VIEW IF EXISTS v_var_spike_customers;\n",
    "CREATE OR REPLACE TEMP VIEW v_var_spike_customers AS\n",
    "SELECT\n",
    "  mc.customer_id,\n",
    "  mc.ym,\n",
    "  mc.tx_count,\n",
    "  spc.mu,\n",
    "  spc.sigma,\n",
    "  (spc.mu + 2 * COALESCE(spc.sigma, 0)) AS threshold\n",
    "FROM v_monthly_counts mc\n",
    "JOIN v_stats_per_customer spc USING (customer_id)\n",
    "CROSS JOIN v_last_month lm\n",
    "WHERE mc.ym = lm.last_month\n",
    "  AND mc.tx_count > (spc.mu + 2 * COALESCE(spc.sigma, 0));\n"
   ]
  },
  {
   "cell_type": "code",
   "execution_count": 0,
   "metadata": {
    "application/vnd.databricks.v1+cell": {
     "cellMetadata": {
      "byteLimit": 2048000,
      "rowLimit": 10000
     },
     "inputWidgets": {},
     "nuid": "dc4a267f-8ab8-43a9-868d-a07f0919ac09",
     "showTitle": false,
     "tableResultSettingsMap": {},
     "title": ""
    }
   },
   "outputs": [
    {
     "output_type": "display_data",
     "data": {
      "text/html": [
       "<style scoped>\n",
       "  .table-result-container {\n",
       "    max-height: 300px;\n",
       "    overflow: auto;\n",
       "  }\n",
       "  table, th, td {\n",
       "    border: 1px solid black;\n",
       "    border-collapse: collapse;\n",
       "  }\n",
       "  th, td {\n",
       "    padding: 5px;\n",
       "  }\n",
       "  th {\n",
       "    text-align: left;\n",
       "  }\n",
       "</style><div class='table-result-container'><table class='table-result'><thead style='background-color: white'><tr><th>num_affected_rows</th><th>num_inserted_rows</th></tr></thead><tbody></tbody></table></div>"
      ]
     },
     "metadata": {
      "application/vnd.databricks.v1+output": {
       "addedWidgets": {},
       "aggData": [],
       "aggError": "",
       "aggOverflow": false,
       "aggSchema": [],
       "aggSeriesLimitReached": false,
       "aggType": "",
       "arguments": {},
       "columnCustomDisplayInfos": {},
       "data": [],
       "datasetInfos": [],
       "dbfsResultPath": null,
       "isJsonSchema": true,
       "metadata": {
        "isDbfsCommandResult": false
       },
       "overflow": false,
       "plotOptions": {
        "customPlotOptions": {},
        "displayType": "table",
        "pivotAggregation": null,
        "pivotColumns": null,
        "xColumns": null,
        "yColumns": null
       },
       "removedWidgets": [],
       "schema": [
        {
         "metadata": "{}",
         "name": "num_affected_rows",
         "type": "\"long\""
        },
        {
         "metadata": "{}",
         "name": "num_inserted_rows",
         "type": "\"long\""
        }
       ],
       "type": "table"
      }
     },
     "output_type": "display_data"
    }
   ],
   "source": [
    "-- 5) Enriquecer + scoring\n",
    "-- Pesos: R1=40, R2=20, R3=50\n",
    "CREATE OR REPLACE TABLE finance_catalog.gold.transactions_enriched\n",
    "TBLPROPERTIES('quality'='gold') AS\n",
    "WITH base AS (\n",
    "  SELECT\n",
    "    s.*,                                         -- trae tx_hour y rule_off_hours de v_tx_silver\n",
    "    CASE WHEN s.amount > 15000 THEN 1 ELSE 0 END AS rule_high_amount\n",
    "  FROM v_tx_silver s\n",
    ")\n",
    "SELECT\n",
    "  b.*,\n",
    "  CASE\n",
    "    WHEN vs.customer_id IS NOT NULL\n",
    "         AND date_trunc('month', b.timestamp) = vs.ym\n",
    "    THEN 1 ELSE 0\n",
    "  END AS rule_var_spike,\n",
    "  -- Risk score\n",
    "  ( (CASE WHEN b.amount > 15000 THEN 40 ELSE 0 END)\n",
    "  + (b.rule_off_hours * 20)\n",
    "  + (CASE\n",
    "       WHEN vs.customer_id IS NOT NULL\n",
    "            AND date_trunc('month', b.timestamp) = vs.ym\n",
    "       THEN 50 ELSE 0\n",
    "     END)\n",
    "  ) AS risk_score,\n",
    "  -- Flag de sospechosa si al menos una regla pega\n",
    "  CASE\n",
    "    WHEN ( (CASE WHEN b.amount > 15000 THEN 1 ELSE 0 END)\n",
    "         + b.rule_off_hours\n",
    "         + (CASE\n",
    "              WHEN vs.customer_id IS NOT NULL\n",
    "                   AND date_trunc('month', b.timestamp) = vs.ym\n",
    "              THEN 1 ELSE 0\n",
    "            END)\n",
    "        ) >= 1\n",
    "    THEN TRUE ELSE FALSE\n",
    "  END AS is_suspicious\n",
    "FROM base b\n",
    "LEFT JOIN v_var_spike_customers vs\n",
    "  ON b.customer_id = vs.customer_id;\n",
    "\n"
   ]
  },
  {
   "cell_type": "code",
   "execution_count": 0,
   "metadata": {
    "application/vnd.databricks.v1+cell": {
     "cellMetadata": {
      "byteLimit": 2048000,
      "rowLimit": 10000
     },
     "inputWidgets": {},
     "nuid": "e7989f69-9b57-43e1-86ea-9963e378a1db",
     "showTitle": false,
     "tableResultSettingsMap": {},
     "title": ""
    }
   },
   "outputs": [
    {
     "output_type": "display_data",
     "data": {
      "text/html": [
       "<style scoped>\n",
       "  .table-result-container {\n",
       "    max-height: 300px;\n",
       "    overflow: auto;\n",
       "  }\n",
       "  table, th, td {\n",
       "    border: 1px solid black;\n",
       "    border-collapse: collapse;\n",
       "  }\n",
       "  th, td {\n",
       "    padding: 5px;\n",
       "  }\n",
       "  th {\n",
       "    text-align: left;\n",
       "  }\n",
       "</style><div class='table-result-container'><table class='table-result'><thead style='background-color: white'><tr><th>num_affected_rows</th><th>num_inserted_rows</th></tr></thead><tbody></tbody></table></div>"
      ]
     },
     "metadata": {
      "application/vnd.databricks.v1+output": {
       "addedWidgets": {},
       "aggData": [],
       "aggError": "",
       "aggOverflow": false,
       "aggSchema": [],
       "aggSeriesLimitReached": false,
       "aggType": "",
       "arguments": {},
       "columnCustomDisplayInfos": {},
       "data": [],
       "datasetInfos": [],
       "dbfsResultPath": null,
       "isJsonSchema": true,
       "metadata": {
        "isDbfsCommandResult": false
       },
       "overflow": false,
       "plotOptions": {
        "customPlotOptions": {},
        "displayType": "table",
        "pivotAggregation": null,
        "pivotColumns": null,
        "xColumns": null,
        "yColumns": null
       },
       "removedWidgets": [],
       "schema": [
        {
         "metadata": "{}",
         "name": "num_affected_rows",
         "type": "\"long\""
        },
        {
         "metadata": "{}",
         "name": "num_inserted_rows",
         "type": "\"long\""
        }
       ],
       "type": "table"
      }
     },
     "output_type": "display_data"
    }
   ],
   "source": [
    "-- 6) Tabla de alertas\n",
    "CREATE OR REPLACE TABLE finance_catalog.gold.transactions_alerts\n",
    "TBLPROPERTIES('quality'='gold') AS\n",
    "SELECT *\n",
    "FROM finance_catalog.gold.transactions_enriched\n",
    "WHERE is_suspicious = TRUE;"
   ]
  },
  {
   "cell_type": "code",
   "execution_count": 0,
   "metadata": {
    "application/vnd.databricks.v1+cell": {
     "cellMetadata": {
      "byteLimit": 2048000,
      "rowLimit": 10000
     },
     "inputWidgets": {},
     "nuid": "84faab7a-7f18-43a3-b837-d6e8d3cee912",
     "showTitle": false,
     "tableResultSettingsMap": {},
     "title": ""
    }
   },
   "outputs": [
    {
     "output_type": "display_data",
     "data": {
      "text/html": [
       "<style scoped>\n",
       "  .table-result-container {\n",
       "    max-height: 300px;\n",
       "    overflow: auto;\n",
       "  }\n",
       "  table, th, td {\n",
       "    border: 1px solid black;\n",
       "    border-collapse: collapse;\n",
       "  }\n",
       "  th, td {\n",
       "    padding: 5px;\n",
       "  }\n",
       "  th {\n",
       "    text-align: left;\n",
       "  }\n",
       "</style><div class='table-result-container'><table class='table-result'><thead style='background-color: white'><tr><th>day</th><th>alerts_per_day</th></tr></thead><tbody><tr><td>2025-01-01</td><td>34</td></tr><tr><td>2025-01-02</td><td>20</td></tr><tr><td>2025-01-03</td><td>38</td></tr><tr><td>2025-01-04</td><td>22</td></tr><tr><td>2025-01-05</td><td>40</td></tr><tr><td>2025-01-06</td><td>24</td></tr><tr><td>2025-01-07</td><td>24</td></tr><tr><td>2025-01-08</td><td>46</td></tr><tr><td>2025-01-09</td><td>44</td></tr><tr><td>2025-01-10</td><td>50</td></tr><tr><td>2025-01-11</td><td>38</td></tr><tr><td>2025-01-12</td><td>40</td></tr><tr><td>2025-01-13</td><td>34</td></tr><tr><td>2025-01-14</td><td>36</td></tr><tr><td>2025-01-15</td><td>38</td></tr><tr><td>2025-01-16</td><td>32</td></tr><tr><td>2025-01-17</td><td>42</td></tr><tr><td>2025-01-18</td><td>40</td></tr><tr><td>2025-01-19</td><td>44</td></tr><tr><td>2025-01-20</td><td>32</td></tr><tr><td>2025-01-21</td><td>22</td></tr><tr><td>2025-01-22</td><td>50</td></tr><tr><td>2025-01-23</td><td>50</td></tr><tr><td>2025-01-24</td><td>38</td></tr><tr><td>2025-01-25</td><td>44</td></tr><tr><td>2025-01-26</td><td>54</td></tr><tr><td>2025-01-27</td><td>32</td></tr><tr><td>2025-01-28</td><td>38</td></tr><tr><td>2025-01-29</td><td>32</td></tr><tr><td>2025-01-30</td><td>46</td></tr><tr><td>2025-01-31</td><td>30</td></tr><tr><td>2025-02-01</td><td>42</td></tr><tr><td>2025-02-02</td><td>46</td></tr><tr><td>2025-02-03</td><td>34</td></tr><tr><td>2025-02-04</td><td>30</td></tr><tr><td>2025-02-05</td><td>52</td></tr><tr><td>2025-02-06</td><td>40</td></tr><tr><td>2025-02-07</td><td>44</td></tr><tr><td>2025-02-08</td><td>42</td></tr><tr><td>2025-02-09</td><td>44</td></tr><tr><td>2025-02-10</td><td>30</td></tr><tr><td>2025-02-11</td><td>44</td></tr><tr><td>2025-02-12</td><td>32</td></tr><tr><td>2025-02-13</td><td>36</td></tr><tr><td>2025-02-14</td><td>26</td></tr><tr><td>2025-02-15</td><td>32</td></tr><tr><td>2025-02-16</td><td>26</td></tr><tr><td>2025-02-17</td><td>36</td></tr><tr><td>2025-02-18</td><td>40</td></tr><tr><td>2025-02-19</td><td>18</td></tr><tr><td>2025-02-20</td><td>38</td></tr><tr><td>2025-02-21</td><td>34</td></tr><tr><td>2025-02-22</td><td>32</td></tr><tr><td>2025-02-23</td><td>32</td></tr><tr><td>2025-02-24</td><td>42</td></tr><tr><td>2025-02-25</td><td>54</td></tr><tr><td>2025-02-26</td><td>48</td></tr><tr><td>2025-02-27</td><td>44</td></tr><tr><td>2025-02-28</td><td>40</td></tr><tr><td>2025-03-01</td><td>12</td></tr><tr><td>2025-03-02</td><td>36</td></tr><tr><td>2025-03-03</td><td>28</td></tr><tr><td>2025-03-04</td><td>48</td></tr><tr><td>2025-03-05</td><td>24</td></tr><tr><td>2025-03-06</td><td>40</td></tr><tr><td>2025-03-07</td><td>38</td></tr><tr><td>2025-03-08</td><td>32</td></tr><tr><td>2025-03-09</td><td>30</td></tr><tr><td>2025-03-10</td><td>28</td></tr><tr><td>2025-03-11</td><td>38</td></tr><tr><td>2025-03-12</td><td>24</td></tr><tr><td>2025-03-13</td><td>42</td></tr><tr><td>2025-03-14</td><td>46</td></tr><tr><td>2025-03-15</td><td>42</td></tr><tr><td>2025-03-16</td><td>36</td></tr><tr><td>2025-03-17</td><td>28</td></tr><tr><td>2025-03-18</td><td>40</td></tr><tr><td>2025-03-19</td><td>46</td></tr><tr><td>2025-03-20</td><td>34</td></tr><tr><td>2025-03-21</td><td>28</td></tr><tr><td>2025-03-22</td><td>30</td></tr><tr><td>2025-03-23</td><td>48</td></tr><tr><td>2025-03-24</td><td>38</td></tr><tr><td>2025-03-25</td><td>42</td></tr><tr><td>2025-03-26</td><td>34</td></tr><tr><td>2025-03-27</td><td>28</td></tr><tr><td>2025-03-28</td><td>40</td></tr><tr><td>2025-03-29</td><td>30</td></tr><tr><td>2025-03-30</td><td>40</td></tr><tr><td>2025-03-31</td><td>30</td></tr><tr><td>2025-04-01</td><td>38</td></tr><tr><td>2025-04-02</td><td>36</td></tr><tr><td>2025-04-03</td><td>34</td></tr><tr><td>2025-04-04</td><td>28</td></tr><tr><td>2025-04-05</td><td>34</td></tr><tr><td>2025-04-06</td><td>26</td></tr><tr><td>2025-04-07</td><td>30</td></tr><tr><td>2025-04-08</td><td>46</td></tr><tr><td>2025-04-09</td><td>28</td></tr><tr><td>2025-04-10</td><td>22</td></tr><tr><td>2025-04-11</td><td>30</td></tr><tr><td>2025-04-12</td><td>50</td></tr><tr><td>2025-04-13</td><td>38</td></tr><tr><td>2025-04-14</td><td>42</td></tr><tr><td>2025-04-15</td><td>36</td></tr><tr><td>2025-04-16</td><td>30</td></tr><tr><td>2025-04-17</td><td>46</td></tr><tr><td>2025-04-18</td><td>44</td></tr><tr><td>2025-04-19</td><td>32</td></tr><tr><td>2025-04-20</td><td>32</td></tr><tr><td>2025-04-21</td><td>42</td></tr><tr><td>2025-04-22</td><td>44</td></tr><tr><td>2025-04-23</td><td>34</td></tr><tr><td>2025-04-24</td><td>42</td></tr><tr><td>2025-04-25</td><td>36</td></tr><tr><td>2025-04-26</td><td>28</td></tr><tr><td>2025-04-27</td><td>30</td></tr><tr><td>2025-04-28</td><td>30</td></tr><tr><td>2025-04-29</td><td>42</td></tr><tr><td>2025-04-30</td><td>30</td></tr><tr><td>2025-05-01</td><td>36</td></tr><tr><td>2025-05-02</td><td>20</td></tr><tr><td>2025-05-03</td><td>40</td></tr><tr><td>2025-05-04</td><td>30</td></tr><tr><td>2025-05-05</td><td>42</td></tr><tr><td>2025-05-06</td><td>38</td></tr><tr><td>2025-05-07</td><td>36</td></tr><tr><td>2025-05-08</td><td>26</td></tr><tr><td>2025-05-09</td><td>32</td></tr><tr><td>2025-05-10</td><td>46</td></tr><tr><td>2025-05-11</td><td>30</td></tr><tr><td>2025-05-12</td><td>48</td></tr><tr><td>2025-05-13</td><td>16</td></tr><tr><td>2025-05-14</td><td>28</td></tr><tr><td>2025-05-15</td><td>26</td></tr><tr><td>2025-05-16</td><td>44</td></tr><tr><td>2025-05-17</td><td>36</td></tr><tr><td>2025-05-18</td><td>30</td></tr><tr><td>2025-05-19</td><td>58</td></tr><tr><td>2025-05-20</td><td>40</td></tr><tr><td>2025-05-21</td><td>26</td></tr><tr><td>2025-05-22</td><td>22</td></tr><tr><td>2025-05-23</td><td>38</td></tr><tr><td>2025-05-24</td><td>56</td></tr><tr><td>2025-05-25</td><td>42</td></tr><tr><td>2025-05-26</td><td>44</td></tr><tr><td>2025-05-27</td><td>36</td></tr><tr><td>2025-05-28</td><td>38</td></tr><tr><td>2025-05-29</td><td>40</td></tr><tr><td>2025-05-30</td><td>42</td></tr><tr><td>2025-05-31</td><td>46</td></tr><tr><td>2025-06-01</td><td>26</td></tr><tr><td>2025-06-02</td><td>44</td></tr><tr><td>2025-06-03</td><td>32</td></tr><tr><td>2025-06-04</td><td>30</td></tr><tr><td>2025-06-05</td><td>38</td></tr><tr><td>2025-06-06</td><td>38</td></tr><tr><td>2025-06-07</td><td>44</td></tr><tr><td>2025-06-08</td><td>38</td></tr><tr><td>2025-06-09</td><td>42</td></tr><tr><td>2025-06-10</td><td>40</td></tr><tr><td>2025-06-11</td><td>34</td></tr><tr><td>2025-06-12</td><td>28</td></tr><tr><td>2025-06-13</td><td>52</td></tr><tr><td>2025-06-14</td><td>30</td></tr><tr><td>2025-06-15</td><td>38</td></tr><tr><td>2025-06-16</td><td>40</td></tr><tr><td>2025-06-17</td><td>36</td></tr><tr><td>2025-06-18</td><td>30</td></tr><tr><td>2025-06-19</td><td>36</td></tr><tr><td>2025-06-20</td><td>26</td></tr><tr><td>2025-06-21</td><td>38</td></tr><tr><td>2025-06-22</td><td>38</td></tr><tr><td>2025-06-23</td><td>40</td></tr><tr><td>2025-06-24</td><td>44</td></tr><tr><td>2025-06-25</td><td>38</td></tr><tr><td>2025-06-26</td><td>34</td></tr><tr><td>2025-06-27</td><td>46</td></tr><tr><td>2025-06-28</td><td>44</td></tr><tr><td>2025-06-29</td><td>44</td></tr><tr><td>2025-06-30</td><td>50</td></tr><tr><td>2025-07-01</td><td>40</td></tr><tr><td>2025-07-02</td><td>32</td></tr><tr><td>2025-07-03</td><td>34</td></tr><tr><td>2025-07-04</td><td>46</td></tr><tr><td>2025-07-05</td><td>52</td></tr><tr><td>2025-07-06</td><td>34</td></tr><tr><td>2025-07-07</td><td>38</td></tr><tr><td>2025-07-08</td><td>14</td></tr><tr><td>2025-07-09</td><td>38</td></tr><tr><td>2025-07-10</td><td>38</td></tr><tr><td>2025-07-11</td><td>32</td></tr><tr><td>2025-07-12</td><td>44</td></tr><tr><td>2025-07-13</td><td>52</td></tr><tr><td>2025-07-14</td><td>38</td></tr><tr><td>2025-07-15</td><td>34</td></tr><tr><td>2025-07-16</td><td>40</td></tr><tr><td>2025-07-17</td><td>50</td></tr><tr><td>2025-07-18</td><td>48</td></tr><tr><td>2025-07-19</td><td>34</td></tr><tr><td>2025-07-20</td><td>32</td></tr><tr><td>2025-07-21</td><td>32</td></tr><tr><td>2025-07-22</td><td>38</td></tr><tr><td>2025-07-23</td><td>38</td></tr><tr><td>2025-07-24</td><td>36</td></tr><tr><td>2025-07-25</td><td>58</td></tr><tr><td>2025-07-26</td><td>38</td></tr><tr><td>2025-07-27</td><td>26</td></tr><tr><td>2025-07-28</td><td>20</td></tr><tr><td>2025-07-29</td><td>28</td></tr><tr><td>2025-07-30</td><td>40</td></tr><tr><td>2025-07-31</td><td>42</td></tr><tr><td>2025-08-01</td><td>42</td></tr><tr><td>2025-08-02</td><td>50</td></tr><tr><td>2025-08-03</td><td>44</td></tr><tr><td>2025-08-04</td><td>38</td></tr><tr><td>2025-08-05</td><td>30</td></tr><tr><td>2025-08-06</td><td>34</td></tr><tr><td>2025-08-07</td><td>32</td></tr><tr><td>2025-08-08</td><td>28</td></tr><tr><td>2025-08-09</td><td>34</td></tr><tr><td>2025-08-10</td><td>42</td></tr><tr><td>2025-08-11</td><td>38</td></tr><tr><td>2025-08-12</td><td>42</td></tr><tr><td>2025-08-13</td><td>40</td></tr><tr><td>2025-08-14</td><td>32</td></tr><tr><td>2025-08-15</td><td>28</td></tr><tr><td>2025-08-16</td><td>34</td></tr><tr><td>2025-08-17</td><td>24</td></tr><tr><td>2025-08-18</td><td>50</td></tr><tr><td>2025-08-19</td><td>50</td></tr><tr><td>2025-08-20</td><td>34</td></tr><tr><td>2025-08-21</td><td>42</td></tr><tr><td>2025-08-22</td><td>32</td></tr><tr><td>2025-08-23</td><td>22</td></tr><tr><td>2025-08-24</td><td>38</td></tr><tr><td>2025-08-25</td><td>36</td></tr><tr><td>2025-08-26</td><td>52</td></tr><tr><td>2025-08-27</td><td>26</td></tr><tr><td>2025-08-28</td><td>38</td></tr><tr><td>2025-08-29</td><td>50</td></tr><tr><td>2025-08-30</td><td>34</td></tr><tr><td>2025-08-31</td><td>24</td></tr><tr><td>2025-09-01</td><td>26</td></tr><tr><td>2025-09-02</td><td>26</td></tr><tr><td>2025-09-03</td><td>36</td></tr><tr><td>2025-09-04</td><td>32</td></tr><tr><td>2025-09-05</td><td>30</td></tr><tr><td>2025-09-06</td><td>42</td></tr><tr><td>2025-09-07</td><td>32</td></tr><tr><td>2025-09-08</td><td>24</td></tr><tr><td>2025-09-09</td><td>44</td></tr><tr><td>2025-09-10</td><td>38</td></tr><tr><td>2025-09-11</td><td>20</td></tr><tr><td>2025-09-12</td><td>18</td></tr></tbody></table></div>"
      ]
     },
     "metadata": {
      "application/vnd.databricks.v1+output": {
       "addedWidgets": {},
       "aggData": [],
       "aggError": "",
       "aggOverflow": false,
       "aggSchema": [],
       "aggSeriesLimitReached": false,
       "aggType": "",
       "arguments": {},
       "columnCustomDisplayInfos": {},
       "data": [
        [
         "2025-01-01",
         34
        ],
        [
         "2025-01-02",
         20
        ],
        [
         "2025-01-03",
         38
        ],
        [
         "2025-01-04",
         22
        ],
        [
         "2025-01-05",
         40
        ],
        [
         "2025-01-06",
         24
        ],
        [
         "2025-01-07",
         24
        ],
        [
         "2025-01-08",
         46
        ],
        [
         "2025-01-09",
         44
        ],
        [
         "2025-01-10",
         50
        ],
        [
         "2025-01-11",
         38
        ],
        [
         "2025-01-12",
         40
        ],
        [
         "2025-01-13",
         34
        ],
        [
         "2025-01-14",
         36
        ],
        [
         "2025-01-15",
         38
        ],
        [
         "2025-01-16",
         32
        ],
        [
         "2025-01-17",
         42
        ],
        [
         "2025-01-18",
         40
        ],
        [
         "2025-01-19",
         44
        ],
        [
         "2025-01-20",
         32
        ],
        [
         "2025-01-21",
         22
        ],
        [
         "2025-01-22",
         50
        ],
        [
         "2025-01-23",
         50
        ],
        [
         "2025-01-24",
         38
        ],
        [
         "2025-01-25",
         44
        ],
        [
         "2025-01-26",
         54
        ],
        [
         "2025-01-27",
         32
        ],
        [
         "2025-01-28",
         38
        ],
        [
         "2025-01-29",
         32
        ],
        [
         "2025-01-30",
         46
        ],
        [
         "2025-01-31",
         30
        ],
        [
         "2025-02-01",
         42
        ],
        [
         "2025-02-02",
         46
        ],
        [
         "2025-02-03",
         34
        ],
        [
         "2025-02-04",
         30
        ],
        [
         "2025-02-05",
         52
        ],
        [
         "2025-02-06",
         40
        ],
        [
         "2025-02-07",
         44
        ],
        [
         "2025-02-08",
         42
        ],
        [
         "2025-02-09",
         44
        ],
        [
         "2025-02-10",
         30
        ],
        [
         "2025-02-11",
         44
        ],
        [
         "2025-02-12",
         32
        ],
        [
         "2025-02-13",
         36
        ],
        [
         "2025-02-14",
         26
        ],
        [
         "2025-02-15",
         32
        ],
        [
         "2025-02-16",
         26
        ],
        [
         "2025-02-17",
         36
        ],
        [
         "2025-02-18",
         40
        ],
        [
         "2025-02-19",
         18
        ],
        [
         "2025-02-20",
         38
        ],
        [
         "2025-02-21",
         34
        ],
        [
         "2025-02-22",
         32
        ],
        [
         "2025-02-23",
         32
        ],
        [
         "2025-02-24",
         42
        ],
        [
         "2025-02-25",
         54
        ],
        [
         "2025-02-26",
         48
        ],
        [
         "2025-02-27",
         44
        ],
        [
         "2025-02-28",
         40
        ],
        [
         "2025-03-01",
         12
        ],
        [
         "2025-03-02",
         36
        ],
        [
         "2025-03-03",
         28
        ],
        [
         "2025-03-04",
         48
        ],
        [
         "2025-03-05",
         24
        ],
        [
         "2025-03-06",
         40
        ],
        [
         "2025-03-07",
         38
        ],
        [
         "2025-03-08",
         32
        ],
        [
         "2025-03-09",
         30
        ],
        [
         "2025-03-10",
         28
        ],
        [
         "2025-03-11",
         38
        ],
        [
         "2025-03-12",
         24
        ],
        [
         "2025-03-13",
         42
        ],
        [
         "2025-03-14",
         46
        ],
        [
         "2025-03-15",
         42
        ],
        [
         "2025-03-16",
         36
        ],
        [
         "2025-03-17",
         28
        ],
        [
         "2025-03-18",
         40
        ],
        [
         "2025-03-19",
         46
        ],
        [
         "2025-03-20",
         34
        ],
        [
         "2025-03-21",
         28
        ],
        [
         "2025-03-22",
         30
        ],
        [
         "2025-03-23",
         48
        ],
        [
         "2025-03-24",
         38
        ],
        [
         "2025-03-25",
         42
        ],
        [
         "2025-03-26",
         34
        ],
        [
         "2025-03-27",
         28
        ],
        [
         "2025-03-28",
         40
        ],
        [
         "2025-03-29",
         30
        ],
        [
         "2025-03-30",
         40
        ],
        [
         "2025-03-31",
         30
        ],
        [
         "2025-04-01",
         38
        ],
        [
         "2025-04-02",
         36
        ],
        [
         "2025-04-03",
         34
        ],
        [
         "2025-04-04",
         28
        ],
        [
         "2025-04-05",
         34
        ],
        [
         "2025-04-06",
         26
        ],
        [
         "2025-04-07",
         30
        ],
        [
         "2025-04-08",
         46
        ],
        [
         "2025-04-09",
         28
        ],
        [
         "2025-04-10",
         22
        ],
        [
         "2025-04-11",
         30
        ],
        [
         "2025-04-12",
         50
        ],
        [
         "2025-04-13",
         38
        ],
        [
         "2025-04-14",
         42
        ],
        [
         "2025-04-15",
         36
        ],
        [
         "2025-04-16",
         30
        ],
        [
         "2025-04-17",
         46
        ],
        [
         "2025-04-18",
         44
        ],
        [
         "2025-04-19",
         32
        ],
        [
         "2025-04-20",
         32
        ],
        [
         "2025-04-21",
         42
        ],
        [
         "2025-04-22",
         44
        ],
        [
         "2025-04-23",
         34
        ],
        [
         "2025-04-24",
         42
        ],
        [
         "2025-04-25",
         36
        ],
        [
         "2025-04-26",
         28
        ],
        [
         "2025-04-27",
         30
        ],
        [
         "2025-04-28",
         30
        ],
        [
         "2025-04-29",
         42
        ],
        [
         "2025-04-30",
         30
        ],
        [
         "2025-05-01",
         36
        ],
        [
         "2025-05-02",
         20
        ],
        [
         "2025-05-03",
         40
        ],
        [
         "2025-05-04",
         30
        ],
        [
         "2025-05-05",
         42
        ],
        [
         "2025-05-06",
         38
        ],
        [
         "2025-05-07",
         36
        ],
        [
         "2025-05-08",
         26
        ],
        [
         "2025-05-09",
         32
        ],
        [
         "2025-05-10",
         46
        ],
        [
         "2025-05-11",
         30
        ],
        [
         "2025-05-12",
         48
        ],
        [
         "2025-05-13",
         16
        ],
        [
         "2025-05-14",
         28
        ],
        [
         "2025-05-15",
         26
        ],
        [
         "2025-05-16",
         44
        ],
        [
         "2025-05-17",
         36
        ],
        [
         "2025-05-18",
         30
        ],
        [
         "2025-05-19",
         58
        ],
        [
         "2025-05-20",
         40
        ],
        [
         "2025-05-21",
         26
        ],
        [
         "2025-05-22",
         22
        ],
        [
         "2025-05-23",
         38
        ],
        [
         "2025-05-24",
         56
        ],
        [
         "2025-05-25",
         42
        ],
        [
         "2025-05-26",
         44
        ],
        [
         "2025-05-27",
         36
        ],
        [
         "2025-05-28",
         38
        ],
        [
         "2025-05-29",
         40
        ],
        [
         "2025-05-30",
         42
        ],
        [
         "2025-05-31",
         46
        ],
        [
         "2025-06-01",
         26
        ],
        [
         "2025-06-02",
         44
        ],
        [
         "2025-06-03",
         32
        ],
        [
         "2025-06-04",
         30
        ],
        [
         "2025-06-05",
         38
        ],
        [
         "2025-06-06",
         38
        ],
        [
         "2025-06-07",
         44
        ],
        [
         "2025-06-08",
         38
        ],
        [
         "2025-06-09",
         42
        ],
        [
         "2025-06-10",
         40
        ],
        [
         "2025-06-11",
         34
        ],
        [
         "2025-06-12",
         28
        ],
        [
         "2025-06-13",
         52
        ],
        [
         "2025-06-14",
         30
        ],
        [
         "2025-06-15",
         38
        ],
        [
         "2025-06-16",
         40
        ],
        [
         "2025-06-17",
         36
        ],
        [
         "2025-06-18",
         30
        ],
        [
         "2025-06-19",
         36
        ],
        [
         "2025-06-20",
         26
        ],
        [
         "2025-06-21",
         38
        ],
        [
         "2025-06-22",
         38
        ],
        [
         "2025-06-23",
         40
        ],
        [
         "2025-06-24",
         44
        ],
        [
         "2025-06-25",
         38
        ],
        [
         "2025-06-26",
         34
        ],
        [
         "2025-06-27",
         46
        ],
        [
         "2025-06-28",
         44
        ],
        [
         "2025-06-29",
         44
        ],
        [
         "2025-06-30",
         50
        ],
        [
         "2025-07-01",
         40
        ],
        [
         "2025-07-02",
         32
        ],
        [
         "2025-07-03",
         34
        ],
        [
         "2025-07-04",
         46
        ],
        [
         "2025-07-05",
         52
        ],
        [
         "2025-07-06",
         34
        ],
        [
         "2025-07-07",
         38
        ],
        [
         "2025-07-08",
         14
        ],
        [
         "2025-07-09",
         38
        ],
        [
         "2025-07-10",
         38
        ],
        [
         "2025-07-11",
         32
        ],
        [
         "2025-07-12",
         44
        ],
        [
         "2025-07-13",
         52
        ],
        [
         "2025-07-14",
         38
        ],
        [
         "2025-07-15",
         34
        ],
        [
         "2025-07-16",
         40
        ],
        [
         "2025-07-17",
         50
        ],
        [
         "2025-07-18",
         48
        ],
        [
         "2025-07-19",
         34
        ],
        [
         "2025-07-20",
         32
        ],
        [
         "2025-07-21",
         32
        ],
        [
         "2025-07-22",
         38
        ],
        [
         "2025-07-23",
         38
        ],
        [
         "2025-07-24",
         36
        ],
        [
         "2025-07-25",
         58
        ],
        [
         "2025-07-26",
         38
        ],
        [
         "2025-07-27",
         26
        ],
        [
         "2025-07-28",
         20
        ],
        [
         "2025-07-29",
         28
        ],
        [
         "2025-07-30",
         40
        ],
        [
         "2025-07-31",
         42
        ],
        [
         "2025-08-01",
         42
        ],
        [
         "2025-08-02",
         50
        ],
        [
         "2025-08-03",
         44
        ],
        [
         "2025-08-04",
         38
        ],
        [
         "2025-08-05",
         30
        ],
        [
         "2025-08-06",
         34
        ],
        [
         "2025-08-07",
         32
        ],
        [
         "2025-08-08",
         28
        ],
        [
         "2025-08-09",
         34
        ],
        [
         "2025-08-10",
         42
        ],
        [
         "2025-08-11",
         38
        ],
        [
         "2025-08-12",
         42
        ],
        [
         "2025-08-13",
         40
        ],
        [
         "2025-08-14",
         32
        ],
        [
         "2025-08-15",
         28
        ],
        [
         "2025-08-16",
         34
        ],
        [
         "2025-08-17",
         24
        ],
        [
         "2025-08-18",
         50
        ],
        [
         "2025-08-19",
         50
        ],
        [
         "2025-08-20",
         34
        ],
        [
         "2025-08-21",
         42
        ],
        [
         "2025-08-22",
         32
        ],
        [
         "2025-08-23",
         22
        ],
        [
         "2025-08-24",
         38
        ],
        [
         "2025-08-25",
         36
        ],
        [
         "2025-08-26",
         52
        ],
        [
         "2025-08-27",
         26
        ],
        [
         "2025-08-28",
         38
        ],
        [
         "2025-08-29",
         50
        ],
        [
         "2025-08-30",
         34
        ],
        [
         "2025-08-31",
         24
        ],
        [
         "2025-09-01",
         26
        ],
        [
         "2025-09-02",
         26
        ],
        [
         "2025-09-03",
         36
        ],
        [
         "2025-09-04",
         32
        ],
        [
         "2025-09-05",
         30
        ],
        [
         "2025-09-06",
         42
        ],
        [
         "2025-09-07",
         32
        ],
        [
         "2025-09-08",
         24
        ],
        [
         "2025-09-09",
         44
        ],
        [
         "2025-09-10",
         38
        ],
        [
         "2025-09-11",
         20
        ],
        [
         "2025-09-12",
         18
        ]
       ],
       "datasetInfos": [],
       "dbfsResultPath": null,
       "isJsonSchema": true,
       "metadata": {
        "isDbfsCommandResult": false
       },
       "overflow": false,
       "plotOptions": {
        "customPlotOptions": {},
        "displayType": "table",
        "pivotAggregation": null,
        "pivotColumns": null,
        "xColumns": null,
        "yColumns": null
       },
       "removedWidgets": [],
       "schema": [
        {
         "metadata": "{}",
         "name": "day",
         "type": "\"date\""
        },
        {
         "metadata": "{}",
         "name": "alerts_per_day",
         "type": "\"long\""
        }
       ],
       "type": "table"
      }
     },
     "output_type": "display_data"
    }
   ],
   "source": [
    "-- 7) Validaciones rápidas\n",
    "SELECT COUNT(*) AS alerts_count\n",
    "FROM finance_catalog.gold.transactions_alerts;\n",
    "\n",
    "SELECT transaction_id, customer_id, amount, tx_hour, risk_score,\n",
    "       rule_high_amount, rule_off_hours, rule_var_spike\n",
    "FROM finance_catalog.gold.transactions_alerts\n",
    "ORDER BY risk_score DESC\n",
    "LIMIT 10;\n",
    "\n",
    "SELECT date(timestamp) AS day, COUNT(*) AS alerts_per_day\n",
    "FROM finance_catalog.gold.transactions_alerts\n",
    "GROUP BY 1\n",
    "ORDER BY 1;"
   ]
  }
 ],
 "metadata": {
  "application/vnd.databricks.v1+notebook": {
   "computePreferences": {
    "hardware": {
     "accelerator": null,
     "gpuPoolId": null,
     "memory": null
    }
   },
   "dashboards": [],
   "environmentMetadata": {
    "base_environment": "",
    "environment_version": "3"
   },
   "inputWidgetPreferences": null,
   "language": "sql",
   "notebookMetadata": {
    "pythonIndentUnit": 4
   },
   "notebookName": "05_gold_rules",
   "widgets": {}
  },
  "language_info": {
   "name": "sql"
  }
 },
 "nbformat": 4,
 "nbformat_minor": 0
}